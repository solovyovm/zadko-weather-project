{
 "cells": [
  {
   "cell_type": "code",
   "execution_count": 1,
   "metadata": {},
   "outputs": [],
   "source": [
    "import os\n",
    "import pandas as pd\n",
    "import numpy as np\n",
    "from datetime import datetime\n",
    "import re\n",
    "from datetime import timedelta"
   ]
  },
  {
   "cell_type": "markdown",
   "metadata": {},
   "source": [
    "# Majordome"
   ]
  },
  {
   "cell_type": "code",
   "execution_count": 40,
   "metadata": {},
   "outputs": [],
   "source": [
    "def build_df(filename):\n",
    "    with open(filename, 'r') as infile, open(filename.replace('.log','_prepd.log'),'w' ) as outfile:\n",
    "        for line in infile:\n",
    "            # only want the rows starting with a datetime\n",
    "            p = re.compile( r'^(\\d{4}-\\d{2}-\\d{2}t\\d{2}:\\d{2}:\\d{2}\\.\\d{3} \\w*)' )\n",
    "            m = p.match( line.lower() )\n",
    "\n",
    "            # and only want rows with relevant info to roof operation\n",
    "            bad_words = ['gcn', '***', 'sql', 'todo', 'modesysteme', '** error **']\n",
    "            # also want to skip make_scene rows, but not all rows containing make_scene ( some majordome contain make_scene args )\n",
    "            bad_types = ['make_scene','socket_tel', 'socket_cam', 'check_alert', 'check_hardware', 'make_autofocus']\n",
    "\n",
    "            if m != None and not any(w in line.lower() for w in bad_words) and not any(t in line[m.start(): m.end()].lower() for t in bad_types):\n",
    "                line = line.replace(';','')\n",
    "                # add a clear delimiter for reading into pandas\n",
    "                line = re.sub(r'^(\\d{4}-\\d{2}-\\d{2}T\\d{2}:\\d{2}:\\d{2}\\.\\d{3}) (\\w+) : (\\S)', r'\\1 ; \\2 ; \\3', line)\n",
    "                outfile.write(line)\n",
    "                \n",
    "    df = pd.read_csv(filename.replace('.log','_prepd.log'), header = None, delimiter=';',\n",
    "                     engine='c', names=['timestamp','type','msg'], parse_dates = ['timestamp'])\n",
    "    \n",
    "    df['type'] = df['type'].str.strip()\n",
    "    df['msg'] = df['msg'].str.strip()\n",
    "    \n",
    "    os.remove( filename.replace('.log','_prepd.log') )\n",
    "    \n",
    "    return df"
   ]
  },
  {
   "cell_type": "code",
   "execution_count": 734,
   "metadata": {},
   "outputs": [],
   "source": [
    "df = pd.read_csv(filename.replace('.log','_prepd.log'), header = None, delimiter=';',\n",
    "                 engine='python', names=['timestamp','type','msg'], parse_dates = ['timestamp'])"
   ]
  },
  {
   "cell_type": "code",
   "execution_count": 735,
   "metadata": {},
   "outputs": [],
   "source": [
    "df['type'] = df['type'].str.strip()\n",
    "df['msg'] = df['msg'].str.strip()"
   ]
  },
  {
   "cell_type": "code",
   "execution_count": 41,
   "metadata": {},
   "outputs": [],
   "source": [
    "def make_reasons_string(reasons_row_df):\n",
    "    \"\"\" Function extracting reasons for check_global problem occuring, and returning a string of unique reasons \"\"\"\n",
    "    \n",
    "    # typical reason row msg: \"A problem occured during check_global: VeryCloudy.\"\n",
    "    # get a set of unique reasons listed in each reason row (or extract first one if only one)\n",
    "    if type(reasons_row_df) == pd.core.series.Series:\n",
    "        reasons = [reason.strip().replace('.','') for reason in reasons_row_df['msg'][39:].split('. ')]\n",
    "    else:\n",
    "        reasons = [res.strip().replace('.','') for sublist in [reason[39:].split('. ') for reason in reasons_row_df['msg'].unique()] for res in sublist]\n",
    "\n",
    "    # add each unique reason as a string to the description\n",
    "    return(\"Problem found: \" + ', '.join( [str(reason) for reason in set(reasons)] ))\n",
    "\n",
    "def extract_roof_ops(row, df):\n",
    "    \n",
    "    # common for most outcomes\n",
    "    ts = row['timestamp']\n",
    "    \n",
    "    if row['type'] == 'majordome':\n",
    "        # Most common majordome related to make scenes, exclude first to save time\n",
    "        if 'todo=' in row['msg']:\n",
    "            ts , desc = np.nan, np.nan\n",
    "        \n",
    "        # SUNSET message triggers first roof open\n",
    "        elif 'skylight=' in row['msg']:\n",
    "            \n",
    "            desc = row['msg'][9:]\n",
    "            \n",
    "            # keep below in case wanna treat them differently later (like add categorical variable)\n",
    "            \"\"\"\n",
    "            if row['msg'] == 'skylight=SUNSET':\n",
    "                ts, desc = row['timestamp'], \"SUNSET\"\n",
    "            elif row['msg'] == 'skylight=DUSK':\n",
    "                # add row that it is now considered dusk\n",
    "            elif row['msg'] == 'skylight=NIGHT':\n",
    "                # it is now considered night\n",
    "            elif row['msg'] == 'skylight=DAWN':\n",
    "                # now dawn, roof may close\n",
    "            elif row['msg'] == 'skylight=SUNRISE':\n",
    "                # now sunrise, roof may close\n",
    "            elif row['msg'] == 'skylight=DAY':\n",
    "                # now day time, roof def closed, observing finished\"\"\"\n",
    "            \n",
    "        # check_global tells if there is problem or not\n",
    "        elif 'check_global=' in row['msg']:\n",
    "            \n",
    "            if row['msg'][13:] == 'PB':\n",
    "                # Find reason for check_global = PB\n",
    "                reason_row_df = df[ ( abs(df['timestamp'] - row['timestamp']).dt.total_seconds() < 2) & (df['msg'].str.contains('problem occured')) ]\n",
    "                desc = make_reasons_string( reason_row_df )\n",
    "                \n",
    "            elif row['msg'][13:] == 'OK':\n",
    "                # add row to say conditions are now okay ( no reason needed )\n",
    "                desc = \"No more problem\"\n",
    "                \n",
    "            elif row['msg'][13:] == 'ALERT':\n",
    "                # add row for when an alert is received ( no further info )\n",
    "                desc = \"Alert Recieved\"\n",
    "                \n",
    "        elif 'problem occured during' in row['msg']:\n",
    "            # need to split logic in case of problem row being 0th and causing index error, in which case write it as well\n",
    "            if row.name > 0:\n",
    "                if 'check_global=' not in df.loc[ row.name  - 1 ]:\n",
    "                    # a reason row not immediately preceded by check_global=PB\n",
    "\n",
    "                    desc = make_reasons_string(  row  )\n",
    "                \n",
    "                else:\n",
    "                    ts , desc = np.nan, np.nan\n",
    "                    \n",
    "            else:\n",
    "                desc = make_reasons_string(  row  )\n",
    "                               \n",
    "        # message that opens the roof when it has been closed\n",
    "        elif 'Open roof (Closed)' in row['msg']:\n",
    "            desc = \"Decide to OPEN\"\n",
    "        \n",
    "        # message that an action was prevented due to roof movement.\n",
    "        # often many repeated messages, so take record first and last in a block\n",
    "        elif 'value_roof=' in row['msg'] and (df.loc[ row.name + 1 ]['msg'] != row['msg'] or df.loc[ row.name - 1 ]['msg'] != row['msg']):\n",
    "            if 'Move_closing' in row['msg']:\n",
    "                desc = \"Roof CLOSING\"\n",
    "            else:\n",
    "                desc = \"Roof OPENING\"\n",
    "        \n",
    "        # otherwise we don't want to write anything for this row\n",
    "        else:\n",
    "            ts , desc = np.nan, np.nan\n",
    "                \n",
    "    \n",
    "    # check where roof closure has been triggered ( but don't care about parking telescope )\n",
    "    elif row['type'] in ['night_security','day_security'] and 'close' in row['msg']:\n",
    "        desc = row['msg']\n",
    "            \n",
    "    elif row['type'] == 'socket_gar' and 'DO roof_' in row['msg']:\n",
    "            \n",
    "        if 'DO roof_open' in row['msg']:\n",
    "            desc = \"OPEN message sent\"\n",
    "\n",
    "        elif 'DO roof_close' in row['msg']:\n",
    "            desc = \"CLOSE message sent\"\n",
    "\n",
    "        # use error code to record if it was successfully sent or not\n",
    "        desc +=  \" successfully\" if 'error=0' in row['msg'] else \" unsuccessfully\"\n",
    "            \n",
    "    else:\n",
    "        ts , desc = np.nan, np.nan\n",
    "    \n",
    "    return pd.Series( {'timestamp': ts, 'desc': desc} )\n",
    "            \n",
    "        "
   ]
  },
  {
   "cell_type": "code",
   "execution_count": 42,
   "metadata": {
    "scrolled": true
   },
   "outputs": [],
   "source": [
    "def make_summary(filename):\n",
    "    \n",
    "    df = build_df( filename )\n",
    "    \n",
    "    if len( df ) == 0:\n",
    "        df = pd.DataFrame( columns=['timestamp', 'desc'] )\n",
    "    \n",
    "    return( df.apply( extract_roof_ops, args = (df,), axis = 1).dropna() )"
   ]
  },
  {
   "cell_type": "code",
   "execution_count": 868,
   "metadata": {},
   "outputs": [
    {
     "data": {
      "text/plain": [
       "['majordome.log',\n",
       " 'majordome_20131124.log',\n",
       " 'majordome_20131125.log',\n",
       " 'majordome_20131126.log',\n",
       " 'majordome_20131127.log',\n",
       " 'majordome_20131128.log',\n",
       " 'majordome_20131129.log',\n",
       " 'majordome_20131130.log',\n",
       " 'majordome_20131130_prepd.log',\n",
       " 'majordome_20131201.log']"
      ]
     },
     "execution_count": 868,
     "metadata": {},
     "output_type": "execute_result"
    }
   ],
   "source": [
    "os.listdir(directory)[10:20]"
   ]
  },
  {
   "cell_type": "code",
   "execution_count": 883,
   "metadata": {},
   "outputs": [
    {
     "data": {
      "text/html": [
       "<div>\n",
       "<style scoped>\n",
       "    .dataframe tbody tr th:only-of-type {\n",
       "        vertical-align: middle;\n",
       "    }\n",
       "\n",
       "    .dataframe tbody tr th {\n",
       "        vertical-align: top;\n",
       "    }\n",
       "\n",
       "    .dataframe thead th {\n",
       "        text-align: right;\n",
       "    }\n",
       "</style>\n",
       "<table border=\"1\" class=\"dataframe\">\n",
       "  <thead>\n",
       "    <tr style=\"text-align: right;\">\n",
       "      <th></th>\n",
       "      <th>timestamp</th>\n",
       "      <th>type</th>\n",
       "      <th>msg</th>\n",
       "    </tr>\n",
       "  </thead>\n",
       "  <tbody>\n",
       "  </tbody>\n",
       "</table>\n",
       "</div>"
      ],
      "text/plain": [
       "Empty DataFrame\n",
       "Columns: [timestamp, type, msg]\n",
       "Index: []"
      ]
     },
     "execution_count": 883,
     "metadata": {},
     "output_type": "execute_result"
    }
   ],
   "source": [
    "make_summary( os.path.join( directory, 'majordome_20131124.log' ))"
   ]
  },
  {
   "cell_type": "code",
   "execution_count": 1214,
   "metadata": {},
   "outputs": [
    {
     "data": {
      "application/javascript": [
       "IPython.OutputArea.prototype._should_scroll = function(lines) {\n",
       "    return false;\n",
       "}\n"
      ],
      "text/plain": [
       "<IPython.core.display.Javascript object>"
      ]
     },
     "metadata": {},
     "output_type": "display_data"
    }
   ],
   "source": [
    "%%javascript\n",
    "IPython.OutputArea.prototype._should_scroll = function(lines) {\n",
    "    return false;\n",
    "}"
   ]
  },
  {
   "cell_type": "code",
   "execution_count": 946,
   "metadata": {},
   "outputs": [
    {
     "name": "stdout",
     "output_type": "stream",
     "text": [
      "error occured for file:  majordome_20191024.logg majordome_20140107.log majordome_20150323.log majordome_20150703.log majordome_20160318.log majordome_20160412.log majordome_20160813.log majordome_20161129.log majordome_20161224.log majordome_20161230.log majordome_20170107.log majordome_20170512.log majordome_20170810.log majordome_20170920.log majordome_20180610.log majordome_20181204.log majordome_20190504.log\n",
      "error occured for file:  majordome_20191026.logg\n",
      "error occured for file:  majordome_20191029.logg\n",
      "error occured for file:  majordome_20191101.logg\n",
      "error occured for file:  majordome_20191118.logg\n",
      "error occured for file:  majordome_20191119.log\n",
      "error occured for file:  majordome_20191125.logg\n",
      "error occured for file:  majordome_20191126.log\n",
      "error occured for file:  majordome_20191202.logg\n",
      "error occured for file:  majordome_20191203.log\n",
      "error occured for file:  majordome_20191204.log\n",
      "error occured for file:  majordome_20191205.log\n",
      "error occured for file:  majordome_20191206.log\n",
      "error occured for file:  majordome_20191207.log\n",
      "error occured for file:  majordome_20200117.logg\n",
      "error occured for file:  majordome_20200118.log\n",
      "error occured for file:  majordome_20200119.log\n",
      "error occured for file:  majordome_20200121.logg\n",
      "error occured for file:  majordome_20200122.log\n",
      "error occured for file:  majordome_20200123.log\n",
      "error occured for file:  majordome_20200124.log\n",
      "error occured for file:  majordome_20200125.log\n",
      "error occured for file:  majordome_20200128.logg\n",
      "error occured for file:  majordome_20200129.log\n",
      "error occured for file:  majordome_20200130.log\n",
      "error occured for file:  majordome_20200204.log\n",
      "error occured for file:  majordome_20200205.log\n",
      "error occured for file:  majordome_20200206.log\n",
      "error occured for file:  majordome_20200207.log\n",
      "error occured for file:  majordome_20200208.log\n",
      "error occured for file:  majordome_20200209.log\n",
      "error occured for file:  majordome_20200210.log\n",
      "error occured for file:  majordome_20200213.loggmajordome_20200212.log\n",
      "error occured for file:  majordome_20200214.log\n",
      "error occured for file:  majordome_20200218.logg\n",
      "error occured for file:  majordome_20200220.logg\n",
      "error occured for file:  majordome_20200307.logg\n",
      "error occured for file:  majordome_20200325.logg\n",
      "error occured for file:  majordome_20200430.logg\n",
      "error occured for file:  majordome_20200512.logg\n",
      "error occured for file:  majordome_20200514.logg\n",
      "error occured for file:  majordome_20200516.logg\n",
      "error occured for file:  majordome_20200517.log\n",
      "error occured for file:  majordome_20200518.log\n",
      "error occured for file:  majordome_20200519.log\n",
      "error occured for file:  majordome_20200520.log\n",
      "error occured for file:  majordome_20200522.logg\n",
      "error occured for file:  majordome_20200524.logg\n",
      "error occured for file:  majordome_20200526.logg\n",
      "error occured for file:  majordome_20200527.log\n",
      "error occured for file:  majordome_20200528.log\n",
      "error occured for file:  majordome_20200529.log\n",
      "error occured for file:  majordome_20200530.log\n",
      "error occured for file:  majordome_20200531.log\n",
      "error occured for file:  majordome_20200601.log\n",
      "error occured for file:  majordome_20200602.log\n",
      "error occured for file:  majordome_20200603.log\n",
      "error occured for file:  majordome_20200604.log\n",
      "error occured for file:  majordome_20200605.log\n",
      "error occured for file:  majordome_20200606.log\n",
      "error occured for file:  majordome_20200607.log\n",
      "error occured for file:  majordome_20200608.log\n",
      "error occured for file:  majordome_20200611.logg\n",
      "error occured for file:  majordome_20200612.log\n",
      "error occured for file:  majordome_20200613.log\n",
      "error occured for file:  majordome_20200614.log\n",
      "error occured for file:  majordome_20200615.log\n",
      "error occured for file:  majordome_20200616.log\n",
      "error occured for file:  majordome_20200617.log\n",
      "error occured for file:  majordome_20200618.log\n",
      "error occured for file:  majordome_20200620.logg\n",
      "error occured for file:  majordome_20200621.log\n",
      "error occured for file:  majordome_20200622.log\n",
      "error occured for file:  majordome_20200623.log\n",
      "error occured for file:  majordome_20200624.log\n",
      "error occured for file:  majordome_20200626.logg\n",
      "error occured for file:  majordome_20200703.logg\n",
      "error occured for file:  majordome_20200704.log\n",
      "error occured for file:  majordome_20200705.log\n",
      "error occured for file:  majordome_20200706.log\n",
      "error occured for file:  majordome_20200707.log\n",
      "error occured for file:  majordome_20200708.log\n",
      "error occured for file:  majordome_20200709.log\n",
      "error occured for file:  majordome_20200710.log\n",
      "error occured for file:  majordome_20200711.log\n",
      "error occured for file:  majordome_20200712.log\n",
      "error occured for file:  majordome_20200713.log\n",
      "error occured for file:  majordome_20200805.logg\n",
      "error occured for file:  majordome_20200828.logg\n",
      "error occured for file:  majordome_20200919.logg\n",
      "error occured for file:  majordome_20200930.logg\n",
      "error occured for file:  majordome_20201011.logg\n",
      "error occured for file:  majordome_20201029.logg\n",
      "error occured for file:  majordome_20201108.logg\n",
      "error occured for file:  majordome_20201110.logg\n",
      "error occured for file:  majordome_20201113.logg\n",
      "error occured for file:  majordome_20201206.logg\n",
      "error occured for file:  majordome_20201213.logg\n",
      "error occured for file:  majordome_20201214.log\n",
      "error occured for file:  majordome_20201215.log\n",
      "error occured for file:  majordome_20210118.logg\n",
      "error occured for file:  majordome_20210225.logg\n",
      "error occured for file:  majordome_20210311.logg\n",
      "error occured for file:  majordome_20210404.logg\n",
      "error occured for file:  majordome_20210410.logg\n",
      "error occured for file:  majordome_20210426.logg\n",
      "error occured for file:  majordome_20210504.logg\n",
      "error occured for file:  majordome_20210506.logg\n",
      "error occured for file:  majordome_20210507.log\n",
      "error occured for file:  majordome_20210508.log\n",
      "error occured for file:  majordome_20210509.log\n",
      "error occured for file:  majordome_20210510.log\n",
      "error occured for file:  majordome_20210512.logg\n",
      "error occured for file:  majordome_20210513.log\n",
      "error occured for file:  majordome_20210515.logg\n",
      "error occured for file:  majordome_20210517.logg\n",
      "error occured for file:  majordome_20210518.log\n"
     ]
    },
    {
     "ename": "FileNotFoundError",
     "evalue": "[Errno 2] No such file or directory: 'C:\\\\Users\\\\Matvey Solovyov\\\\OneDrive\\\\Documents\\\\UWA\\\\2021_S1\\\\GinginWx\\\\gingin-weather\\\\log_summaries\\\\majordome.zip'",
     "output_type": "error",
     "traceback": [
      "\u001b[1;31m----------------------------------------------------------\u001b[0m",
      "\u001b[1;31mFileNotFoundError\u001b[0m        Traceback (most recent call last)",
      "\u001b[1;32m<ipython-input-946-af404159f57e>\u001b[0m in \u001b[0;36m<module>\u001b[1;34m\u001b[0m\n\u001b[0;32m     28\u001b[0m                          compression = compression_opts)\n\u001b[0;32m     29\u001b[0m \u001b[1;32melse\u001b[0m\u001b[1;33m:\u001b[0m\u001b[1;33m\u001b[0m\u001b[1;33m\u001b[0m\u001b[0m\n\u001b[1;32m---> 30\u001b[1;33m     \u001b[0mall_summaries\u001b[0m\u001b[1;33m.\u001b[0m\u001b[0mto_csv\u001b[0m\u001b[1;33m(\u001b[0m\u001b[0mos\u001b[0m\u001b[1;33m.\u001b[0m\u001b[0mpath\u001b[0m\u001b[1;33m.\u001b[0m\u001b[0mjoin\u001b[0m\u001b[1;33m(\u001b[0m \u001b[0mos\u001b[0m\u001b[1;33m.\u001b[0m\u001b[0mgetcwd\u001b[0m\u001b[1;33m(\u001b[0m\u001b[1;33m)\u001b[0m\u001b[1;33m,\u001b[0m \u001b[1;34m'log_summaries\\\\majordome.zip'\u001b[0m \u001b[1;33m)\u001b[0m \u001b[1;33m,\u001b[0m \u001b[0mindex\u001b[0m \u001b[1;33m=\u001b[0m \u001b[1;32mFalse\u001b[0m\u001b[1;33m)\u001b[0m\u001b[1;33m\u001b[0m\u001b[1;33m\u001b[0m\u001b[0m\n\u001b[0m\u001b[0;32m     31\u001b[0m \u001b[1;33m\u001b[0m\u001b[0m\n",
      "\u001b[1;32m~\\AppData\\Roaming\\Python\\Python38\\site-packages\\pandas\\core\\generic.py\u001b[0m in \u001b[0;36mto_csv\u001b[1;34m(self, path_or_buf, sep, na_rep, float_format, columns, header, index, index_label, mode, encoding, compression, quoting, quotechar, line_terminator, chunksize, date_format, doublequote, escapechar, decimal)\u001b[0m\n\u001b[0;32m   3226\u001b[0m             \u001b[0mdecimal\u001b[0m\u001b[1;33m=\u001b[0m\u001b[0mdecimal\u001b[0m\u001b[1;33m,\u001b[0m\u001b[1;33m\u001b[0m\u001b[1;33m\u001b[0m\u001b[0m\n\u001b[0;32m   3227\u001b[0m         )\n\u001b[1;32m-> 3228\u001b[1;33m         \u001b[0mformatter\u001b[0m\u001b[1;33m.\u001b[0m\u001b[0msave\u001b[0m\u001b[1;33m(\u001b[0m\u001b[1;33m)\u001b[0m\u001b[1;33m\u001b[0m\u001b[1;33m\u001b[0m\u001b[0m\n\u001b[0m\u001b[0;32m   3229\u001b[0m \u001b[1;33m\u001b[0m\u001b[0m\n\u001b[0;32m   3230\u001b[0m         \u001b[1;32mif\u001b[0m \u001b[0mpath_or_buf\u001b[0m \u001b[1;32mis\u001b[0m \u001b[1;32mNone\u001b[0m\u001b[1;33m:\u001b[0m\u001b[1;33m\u001b[0m\u001b[1;33m\u001b[0m\u001b[0m\n",
      "\u001b[1;32m~\\AppData\\Roaming\\Python\\Python38\\site-packages\\pandas\\io\\formats\\csvs.py\u001b[0m in \u001b[0;36msave\u001b[1;34m(self)\u001b[0m\n\u001b[0;32m    209\u001b[0m                     \u001b[0mself\u001b[0m\u001b[1;33m.\u001b[0m\u001b[0mpath_or_buf\u001b[0m\u001b[1;33m.\u001b[0m\u001b[0mwrite\u001b[0m\u001b[1;33m(\u001b[0m\u001b[0mbuf\u001b[0m\u001b[1;33m)\u001b[0m\u001b[1;33m\u001b[0m\u001b[1;33m\u001b[0m\u001b[0m\n\u001b[0;32m    210\u001b[0m                 \u001b[1;32melse\u001b[0m\u001b[1;33m:\u001b[0m\u001b[1;33m\u001b[0m\u001b[1;33m\u001b[0m\u001b[0m\n\u001b[1;32m--> 211\u001b[1;33m                     f, handles = _get_handle(\n\u001b[0m\u001b[0;32m    212\u001b[0m                         \u001b[0mself\u001b[0m\u001b[1;33m.\u001b[0m\u001b[0mpath_or_buf\u001b[0m\u001b[1;33m,\u001b[0m\u001b[1;33m\u001b[0m\u001b[1;33m\u001b[0m\u001b[0m\n\u001b[0;32m    213\u001b[0m                         \u001b[0mself\u001b[0m\u001b[1;33m.\u001b[0m\u001b[0mmode\u001b[0m\u001b[1;33m,\u001b[0m\u001b[1;33m\u001b[0m\u001b[1;33m\u001b[0m\u001b[0m\n",
      "\u001b[1;32m~\\AppData\\Roaming\\Python\\Python38\\site-packages\\pandas\\io\\common.py\u001b[0m in \u001b[0;36m_get_handle\u001b[1;34m(path_or_buf, mode, encoding, compression, memory_map, is_text)\u001b[0m\n\u001b[0;32m    364\u001b[0m         \u001b[1;31m# ZIP Compression\u001b[0m\u001b[1;33m\u001b[0m\u001b[1;33m\u001b[0m\u001b[1;33m\u001b[0m\u001b[0m\n\u001b[0;32m    365\u001b[0m         \u001b[1;32melif\u001b[0m \u001b[0mcompression\u001b[0m \u001b[1;33m==\u001b[0m \u001b[1;34m\"zip\"\u001b[0m\u001b[1;33m:\u001b[0m\u001b[1;33m\u001b[0m\u001b[1;33m\u001b[0m\u001b[0m\n\u001b[1;32m--> 366\u001b[1;33m             \u001b[0mzf\u001b[0m \u001b[1;33m=\u001b[0m \u001b[0mBytesZipFile\u001b[0m\u001b[1;33m(\u001b[0m\u001b[0mpath_or_buf\u001b[0m\u001b[1;33m,\u001b[0m \u001b[0mmode\u001b[0m\u001b[1;33m)\u001b[0m\u001b[1;33m\u001b[0m\u001b[1;33m\u001b[0m\u001b[0m\n\u001b[0m\u001b[0;32m    367\u001b[0m             \u001b[1;31m# Ensure the container is closed as well.\u001b[0m\u001b[1;33m\u001b[0m\u001b[1;33m\u001b[0m\u001b[1;33m\u001b[0m\u001b[0m\n\u001b[0;32m    368\u001b[0m             \u001b[0mhandles\u001b[0m\u001b[1;33m.\u001b[0m\u001b[0mappend\u001b[0m\u001b[1;33m(\u001b[0m\u001b[0mzf\u001b[0m\u001b[1;33m)\u001b[0m\u001b[1;33m\u001b[0m\u001b[1;33m\u001b[0m\u001b[0m\n",
      "\u001b[1;32m~\\AppData\\Roaming\\Python\\Python38\\site-packages\\pandas\\io\\common.py\u001b[0m in \u001b[0;36m__init__\u001b[1;34m(self, file, mode, compression, **kwargs)\u001b[0m\n\u001b[0;32m    441\u001b[0m         \u001b[1;32mif\u001b[0m \u001b[0mmode\u001b[0m \u001b[1;32min\u001b[0m \u001b[1;33m[\u001b[0m\u001b[1;34m\"wb\"\u001b[0m\u001b[1;33m,\u001b[0m \u001b[1;34m\"rb\"\u001b[0m\u001b[1;33m]\u001b[0m\u001b[1;33m:\u001b[0m\u001b[1;33m\u001b[0m\u001b[1;33m\u001b[0m\u001b[0m\n\u001b[0;32m    442\u001b[0m             \u001b[0mmode\u001b[0m \u001b[1;33m=\u001b[0m \u001b[0mmode\u001b[0m\u001b[1;33m.\u001b[0m\u001b[0mreplace\u001b[0m\u001b[1;33m(\u001b[0m\u001b[1;34m\"b\"\u001b[0m\u001b[1;33m,\u001b[0m \u001b[1;34m\"\"\u001b[0m\u001b[1;33m)\u001b[0m\u001b[1;33m\u001b[0m\u001b[1;33m\u001b[0m\u001b[0m\n\u001b[1;32m--> 443\u001b[1;33m         \u001b[0msuper\u001b[0m\u001b[1;33m(\u001b[0m\u001b[1;33m)\u001b[0m\u001b[1;33m.\u001b[0m\u001b[0m__init__\u001b[0m\u001b[1;33m(\u001b[0m\u001b[0mfile\u001b[0m\u001b[1;33m,\u001b[0m \u001b[0mmode\u001b[0m\u001b[1;33m,\u001b[0m \u001b[0mcompression\u001b[0m\u001b[1;33m,\u001b[0m \u001b[1;33m**\u001b[0m\u001b[0mkwargs\u001b[0m\u001b[1;33m)\u001b[0m\u001b[1;33m\u001b[0m\u001b[1;33m\u001b[0m\u001b[0m\n\u001b[0m\u001b[0;32m    444\u001b[0m \u001b[1;33m\u001b[0m\u001b[0m\n\u001b[0;32m    445\u001b[0m     \u001b[1;32mdef\u001b[0m \u001b[0mwrite\u001b[0m\u001b[1;33m(\u001b[0m\u001b[0mself\u001b[0m\u001b[1;33m,\u001b[0m \u001b[0mdata\u001b[0m\u001b[1;33m)\u001b[0m\u001b[1;33m:\u001b[0m\u001b[1;33m\u001b[0m\u001b[1;33m\u001b[0m\u001b[0m\n",
      "\u001b[1;32mc:\\users\\matvey solovyov\\appdata\\local\\programs\\python\\python38\\lib\\zipfile.py\u001b[0m in \u001b[0;36m__init__\u001b[1;34m(self, file, mode, compression, allowZip64, compresslevel, strict_timestamps)\u001b[0m\n\u001b[0;32m   1214\u001b[0m             \u001b[1;32mwhile\u001b[0m \u001b[1;32mTrue\u001b[0m\u001b[1;33m:\u001b[0m\u001b[1;33m\u001b[0m\u001b[1;33m\u001b[0m\u001b[0m\n\u001b[0;32m   1215\u001b[0m                 \u001b[1;32mtry\u001b[0m\u001b[1;33m:\u001b[0m\u001b[1;33m\u001b[0m\u001b[1;33m\u001b[0m\u001b[0m\n\u001b[1;32m-> 1216\u001b[1;33m                     \u001b[0mself\u001b[0m\u001b[1;33m.\u001b[0m\u001b[0mfp\u001b[0m \u001b[1;33m=\u001b[0m \u001b[0mio\u001b[0m\u001b[1;33m.\u001b[0m\u001b[0mopen\u001b[0m\u001b[1;33m(\u001b[0m\u001b[0mfile\u001b[0m\u001b[1;33m,\u001b[0m \u001b[0mfilemode\u001b[0m\u001b[1;33m)\u001b[0m\u001b[1;33m\u001b[0m\u001b[1;33m\u001b[0m\u001b[0m\n\u001b[0m\u001b[0;32m   1217\u001b[0m                 \u001b[1;32mexcept\u001b[0m \u001b[0mOSError\u001b[0m\u001b[1;33m:\u001b[0m\u001b[1;33m\u001b[0m\u001b[1;33m\u001b[0m\u001b[0m\n\u001b[0;32m   1218\u001b[0m                     \u001b[1;32mif\u001b[0m \u001b[0mfilemode\u001b[0m \u001b[1;32min\u001b[0m \u001b[0mmodeDict\u001b[0m\u001b[1;33m:\u001b[0m\u001b[1;33m\u001b[0m\u001b[1;33m\u001b[0m\u001b[0m\n",
      "\u001b[1;31mFileNotFoundError\u001b[0m: [Errno 2] No such file or directory: 'C:\\\\Users\\\\Matvey Solovyov\\\\OneDrive\\\\Documents\\\\UWA\\\\2021_S1\\\\GinginWx\\\\gingin-weather\\\\log_summaries\\\\majordome.zip'"
     ]
    }
   ],
   "source": [
    "directory = os.path.join( os.getcwd(), 'logs\\\\majordome' )\n",
    "\n",
    "summaries_lst = []\n",
    "\n",
    "error_lst = []\n",
    "\n",
    "for filename in os.listdir(directory):\n",
    "    if filename.endswith( '.log' ) and 'prepd' not in filename:\n",
    "        try:\n",
    "            # appending to list and then concatenating at the end is faster than concatenating every time\n",
    "            summary = make_summary( os.path.join( directory, filename ) )\n",
    "\n",
    "            if len(summary) > 0:\n",
    "                summaries_lst.append( summary )\n",
    "                print( \"adding summary for file: \", filename, end='\\r')\n",
    "        except:\n",
    "            error_lst.append( filename )\n",
    "            print(\"error occured for file: \", filename)\n",
    "            continue\n",
    "        \n",
    "all_summaries = pd.concat( summaries_lst, ignore_index=True )     \n",
    "\n",
    "if all_summaries.memory_usage(deep=True).sum() > 1000000000:\n",
    "    \n",
    "    compression_opts = dict(method='zip', archive_name='majordome.csv')  \n",
    "    \n",
    "    all_summaries.to_csv( os.path.join( os.getcwd(), 'log_summaries\\\\majordome.zip' ) , index = False ,\n",
    "                         compression = compression_opts)\n",
    "else:\n",
    "    all_summaries.to_csv(os.path.join( os.getcwd(), 'log_summaries\\\\majordome.csv') , index = False)\n",
    "    "
   ]
  },
  {
   "cell_type": "code",
   "execution_count": 945,
   "metadata": {},
   "outputs": [],
   "source": [
    "df = make_summary( os.path.join( directory, 'majordome_20190313.log' ) )"
   ]
  },
  {
   "cell_type": "code",
   "execution_count": 943,
   "metadata": {},
   "outputs": [
    {
     "data": {
      "text/html": [
       "<div>\n",
       "<style scoped>\n",
       "    .dataframe tbody tr th:only-of-type {\n",
       "        vertical-align: middle;\n",
       "    }\n",
       "\n",
       "    .dataframe tbody tr th {\n",
       "        vertical-align: top;\n",
       "    }\n",
       "\n",
       "    .dataframe thead th {\n",
       "        text-align: right;\n",
       "    }\n",
       "</style>\n",
       "<table border=\"1\" class=\"dataframe\">\n",
       "  <thead>\n",
       "    <tr style=\"text-align: right;\">\n",
       "      <th></th>\n",
       "      <th>timestamp</th>\n",
       "      <th>type</th>\n",
       "      <th>msg</th>\n",
       "    </tr>\n",
       "  </thead>\n",
       "  <tbody>\n",
       "    <tr>\n",
       "      <th>0</th>\n",
       "      <td>2019-03-14 10:29:54</td>\n",
       "      <td>socket_server_respons1</td>\n",
       "      <td>sock1e26390 a repondu \" \"</td>\n",
       "    </tr>\n",
       "    <tr>\n",
       "      <th>1</th>\n",
       "      <td>2019-03-14 10:29:54</td>\n",
       "      <td>socket_gar</td>\n",
       "      <td>Send a message to gar \"DO roof_close\" (error=0 )</td>\n",
       "    </tr>\n",
       "    <tr>\n",
       "      <th>2</th>\n",
       "      <td>2019-03-14 10:29:54</td>\n",
       "      <td>socket_gar</td>\n",
       "      <td>Receive a message from gar (OK)</td>\n",
       "    </tr>\n",
       "    <tr>\n",
       "      <th>3</th>\n",
       "      <td>2019-03-14 10:29:54</td>\n",
       "      <td>day_security</td>\n",
       "      <td>Starts to close the roof (currently Manual mod...</td>\n",
       "    </tr>\n",
       "    <tr>\n",
       "      <th>4</th>\n",
       "      <td>2019-03-14 10:29:55</td>\n",
       "      <td>socket_server_respons1</td>\n",
       "      <td>Socket sock1e26390 (127.0.0.1:42339) a recu \"\"</td>\n",
       "    </tr>\n",
       "    <tr>\n",
       "      <th>...</th>\n",
       "      <td>...</td>\n",
       "      <td>...</td>\n",
       "      <td>...</td>\n",
       "    </tr>\n",
       "    <tr>\n",
       "      <th>1351</th>\n",
       "      <td>2019-03-15 04:16:52</td>\n",
       "      <td>socket_gar</td>\n",
       "      <td>Receive a message from gar (OK)</td>\n",
       "    </tr>\n",
       "    <tr>\n",
       "      <th>1352</th>\n",
       "      <td>2019-03-15 04:16:52</td>\n",
       "      <td>day_security</td>\n",
       "      <td>Starts to close the roof (currently Manual mod...</td>\n",
       "    </tr>\n",
       "    <tr>\n",
       "      <th>1353</th>\n",
       "      <td>2019-03-15 04:17:02</td>\n",
       "      <td>socket_gar</td>\n",
       "      <td>Send a message to gar \"DO roof_close\" (error=0 )</td>\n",
       "    </tr>\n",
       "    <tr>\n",
       "      <th>1354</th>\n",
       "      <td>2019-03-15 04:17:03</td>\n",
       "      <td>socket_gar</td>\n",
       "      <td>Receive a message from gar (OK)</td>\n",
       "    </tr>\n",
       "    <tr>\n",
       "      <th>1355</th>\n",
       "      <td>2019-03-15 04:17:03</td>\n",
       "      <td>day_security</td>\n",
       "      <td>Starts to close the roof (currently Manual mod...</td>\n",
       "    </tr>\n",
       "  </tbody>\n",
       "</table>\n",
       "<p>1356 rows × 3 columns</p>\n",
       "</div>"
      ],
      "text/plain": [
       "               timestamp                    type  \\\n",
       "0    2019-03-14 10:29:54  socket_server_respons1   \n",
       "1    2019-03-14 10:29:54              socket_gar   \n",
       "2    2019-03-14 10:29:54              socket_gar   \n",
       "3    2019-03-14 10:29:54            day_security   \n",
       "4    2019-03-14 10:29:55  socket_server_respons1   \n",
       "...                  ...                     ...   \n",
       "1351 2019-03-15 04:16:52              socket_gar   \n",
       "1352 2019-03-15 04:16:52            day_security   \n",
       "1353 2019-03-15 04:17:02              socket_gar   \n",
       "1354 2019-03-15 04:17:03              socket_gar   \n",
       "1355 2019-03-15 04:17:03            day_security   \n",
       "\n",
       "                                                    msg  \n",
       "0                             sock1e26390 a repondu \" \"  \n",
       "1      Send a message to gar \"DO roof_close\" (error=0 )  \n",
       "2                       Receive a message from gar (OK)  \n",
       "3     Starts to close the roof (currently Manual mod...  \n",
       "4        Socket sock1e26390 (127.0.0.1:42339) a recu \"\"  \n",
       "...                                                 ...  \n",
       "1351                    Receive a message from gar (OK)  \n",
       "1352  Starts to close the roof (currently Manual mod...  \n",
       "1353   Send a message to gar \"DO roof_close\" (error=0 )  \n",
       "1354                    Receive a message from gar (OK)  \n",
       "1355  Starts to close the roof (currently Manual mod...  \n",
       "\n",
       "[1356 rows x 3 columns]"
      ]
     },
     "execution_count": 943,
     "metadata": {},
     "output_type": "execute_result"
    }
   ],
   "source": [
    "df"
   ]
  },
  {
   "cell_type": "code",
   "execution_count": 984,
   "metadata": {},
   "outputs": [
    {
     "name": "stdout",
     "output_type": "stream",
     "text": [
      "adding summary for file:  majordome_20210518.log\r"
     ]
    }
   ],
   "source": [
    "directory = os.path.join( os.getcwd(), 'logs\\\\majordome' )\n",
    "\n",
    "summaries_lst2 = []\n",
    "\n",
    "error_lst2 = []\n",
    "\n",
    "for filename in error_lst:\n",
    "    if filename.endswith( '.log' ) and 'prepd' not in filename:\n",
    "        try:\n",
    "            # appending to list and then concatenating at the end is faster than concatenating every time\n",
    "            summary = make_summary( os.path.join( directory, filename ) )\n",
    "\n",
    "            if len(summary) > 0:\n",
    "                summaries_lst2.append( summary )\n",
    "                print( \"adding summary for file: \", filename, end='\\r')\n",
    "        except:\n",
    "            error_lst2.append( filename )\n",
    "            print(\"error occured for file: \", filename)\n",
    "            continue\n",
    "            \n",
    "all_summaries2 = pd.concat( summaries_lst2, ignore_index=True )"
   ]
  },
  {
   "cell_type": "code",
   "execution_count": null,
   "metadata": {},
   "outputs": [],
   "source": [
    "all_summaries = pd.concat( [all_summaries, all_summaries2], ignore_index=True )\n",
    "\n",
    "# change times to UTC + 8\n",
    "all_summaries['timestamp'] = pd.to_datetime( all_summaries['timestamp'] ) + timedelta( hours = 8)\n",
    "all_summaries = all_summaries.sort( by=['timestamp'] )\n",
    "\n",
    "all_summaries.to_csv(os.path.join( os.getcwd(), 'log_summaries\\\\majordome.csv') , index = False)"
   ]
  },
  {
   "cell_type": "markdown",
   "metadata": {},
   "source": [
    "# Gardien"
   ]
  },
  {
   "cell_type": "code",
   "execution_count": 8,
   "metadata": {},
   "outputs": [],
   "source": [
    "# Functions were defined under incorrect assumption? Have chosen to use a different detection method but keep these\n",
    "\n",
    "def build_move_starts(row):\n",
    "    return pd.Series( {'timestamp': row['timestamp'], 'status': 'START_MOVE'} )\n",
    "\n",
    "def find_move_ends(row, moves_df , main_df):\n",
    "    if all(pd.isnull(row)):\n",
    "        move_start_row = moves_df.loc[ row.name - 1 ]\n",
    "        \n",
    "        move_end_row = main_df[ (main_df['timestamp'] > move_start_row['timestamp']) & (main_df['type'].shift(-1) != 'ros_meteo_vaisala_wxt5xx') ].iloc[0]\n",
    "        \n",
    "        return pd.Series( {'timestamp':move_end_row['timestamp'], 'status':'END_MOVE'} )\n",
    "    else:\n",
    "        return row"
   ]
  },
  {
   "cell_type": "code",
   "execution_count": 10,
   "metadata": {},
   "outputs": [],
   "source": [
    "def build_gardien_df( filename ):\n",
    "    \n",
    "    \"\"\"\n",
    "    Function taking filename of a 'gardien' log, preprocessing and saving as a temporary file\n",
    "    by selecting which rows to keep and creating a clear delimiter.\n",
    "    File is then read in through pandas to a dataframe, file is removed and df is returned.\n",
    "    \"\"\"\n",
    "    \n",
    "    with open(filename, 'r', encoding='utf-8') as infile, open(filename.replace('.log','_prepd.log'),'w', encoding='utf-8' ) as outfile:\n",
    "        for line in infile:\n",
    "            # only want the rows starting with a datetime\n",
    "            p = re.compile( r'^(\\d{4}-\\d{2}-\\d{2}t\\d{2}:\\d{2}:\\d{2}\\.\\d{3} \\w*)' )\n",
    "            m = p.match( line.lower() )\n",
    "\n",
    "            # and only want the gar_do rows\n",
    "            good_types = ['gar_do']\n",
    "            \n",
    "            if m != None and any(t in line[m.start(): m.end()].lower() for t in good_types):\n",
    "                line = line.replace(';','')\n",
    "                # add a clear delimiter for reading into pandas\n",
    "                line = re.sub(r'^(\\d{4}-\\d{2}-\\d{2}T\\d{2}:\\d{2}:\\d{2}\\.\\d{3}) (\\w+) : (\\S)', r'\\1 ; \\2 ; \\3', line)\n",
    "                outfile.write(line)\n",
    "        \n",
    "    df = pd.read_csv(filename.replace('.log','_prepd.log'), header = None, delimiter=';',\n",
    "                 engine='c', names=['timestamp','type','msg'], parse_dates = ['timestamp'])\n",
    "    \n",
    "    os.remove( filename.replace('.log','_prepd.log') )\n",
    "\n",
    "    df['type'] = df['type'].str.strip()\n",
    "    df['msg'] = df['msg'].str.strip()\n",
    "    \n",
    "    return( df )"
   ]
  },
  {
   "cell_type": "code",
   "execution_count": 11,
   "metadata": {},
   "outputs": [],
   "source": [
    "# First define different apply functions to be used\n",
    "\n",
    "def build_set_statuses(row):\n",
    "    # Function to be applied to gardien dataframe to extract Open / Close set_action messages\n",
    "    return pd.Series( {'timestamp': row['timestamp'], 'status': row['msg'][:-5].upper()+'_SET' } )\n",
    "\n",
    "def extract_statuses(row, status_df):\n",
    "    # Function to be applied to gardien dataframe to extract the status given in a gar_do messages\n",
    "    # given the previous status is not the same to only recorded \"changes\" in status or an error value\n",
    "    \n",
    "    # define a list of good status values. All others are number corresponding to bad logs.\n",
    "    good_statuses = ['Opened', 'Move_openning','Closed','Move_closing','Stopped','Manual mode partly opened']\n",
    "    \n",
    "    current_status = row.msg[ row.msg.find(\"(\")+ 1 : row.msg.find(\")\") ]\n",
    "    \n",
    "    if current_status not in good_statuses:\n",
    "        ts, status = np.nan, np.nan\n",
    "        \n",
    "    # for all except the last row\n",
    "    elif row.name < len(status_df) - 1:\n",
    "        # find the next status message\n",
    "        next_status = status_df.loc[ row.name + 1 ].msg[ row.msg.find(\"(\")+ 1 : row.msg.find(\")\") ]\n",
    "        \n",
    "        # if the next one is the same, we only want to record the LATEST one\n",
    "        if current_status == next_status:\n",
    "            ts, status = np.nan, np.nan\n",
    "            \n",
    "        else:\n",
    "            # if the next one is different a change occured that we want to record\n",
    "            ts, status = row['timestamp'], current_status\n",
    "    else:\n",
    "        # the last status is recorded regardless\n",
    "        ts, status = row['timestamp'], current_status\n",
    "        \n",
    "    return pd.Series( {'timestamp': ts, 'status': status } )\n",
    "\n",
    "# Now define main function creating the summary for a gardien log\n",
    "def make_gardien_summary( filename, include_sets=False ):\n",
    "    \n",
    "    \"\"\"\n",
    "    Function takes filename of a gardien log, uses build_gardien_df to build a dataframe to make the summary.\n",
    "    Changes in status are extracted by the (current_status) part of gar_do messages listing values of current\n",
    "    variables LS_Open and LS_Close. There exist cases where they repeat, so only changes are recorded.\n",
    "    Optionally can also include the set_action messages, however these do not always result in a change in status.\n",
    "    \n",
    "    returns a dataframe containing a summary of roof statuses given in the log file.\n",
    "    \"\"\"\n",
    "    \n",
    "    df = build_gardien_df( filename )\n",
    "    \n",
    "    # similarly for the starts of movements of the roof (can be extended to indicate if closing / opening)\n",
    "    # reset index to be able to easily for first item in apply function\n",
    "    status_df = df[ (df['type'] == 'gar_do') & (df['msg'].str.contains(\"LS_Open=\") ) &\n",
    "                      (df['msg'].str.contains('LS_Close=') ) ].reset_index(drop=True)\n",
    "    \n",
    "    summary_df = status_df.apply( extract_statuses, args=(status_df,) ,axis=1 ).dropna()\n",
    "        \n",
    "    if include_sets:\n",
    "        \n",
    "        # find all messages indicating that the roof has been set to open / close\n",
    "        oc_df = df[ (df['type'] == 'set_action') & (df['msg'].str.split(' ').str.len() == 2) ]\n",
    "        oc_df = oc_df.apply( build_set_statuses ,axis =1)\n",
    "        \n",
    "        if len( summary_df ) > 0:\n",
    "            summary_df = pd.concat( [summary_df, oc_df], ignore_index=True )\n",
    "        else:\n",
    "            summary_df = oc_df\n",
    "       \n",
    "    return( summary_df.sort_values( by=['timestamp'] ).reset_index(drop=True) )"
   ]
  },
  {
   "cell_type": "code",
   "execution_count": 15,
   "metadata": {},
   "outputs": [],
   "source": [
    "# Loop through gardien logs extracting summaries and recording errors\n",
    "\n",
    "g_directory = os.path.join( os.getcwd(), 'logs\\\\gardien' )\n",
    "\n",
    "gardien_summaries_lst = []\n",
    "\n",
    "g_error_lst = []\n",
    "\n",
    "for filename in os.listdir(g_directory):\n",
    "    if filename.endswith( '.log' ) and 'prepd' not in filename:\n",
    "        try:\n",
    "            # appending to list and then concatenating at the end is faster than concatenating every time\n",
    "            summary = make_gardien_summary( os.path.join( g_directory, filename ) )\n",
    "\n",
    "            if len(summary) > 0:\n",
    "                gardien_summaries_lst.append( summary )\n",
    "        except:\n",
    "            g_error_lst.append( filename )\n",
    "            continue\n",
    "        "
   ]
  },
  {
   "cell_type": "code",
   "execution_count": 16,
   "metadata": {},
   "outputs": [],
   "source": [
    "all_g_summaries = pd.concat( gardien_summaries_lst, ignore_index=True )\n",
    "\n",
    "# change to datetime format and add 8 hours for UTC+8 to compare with local time\n",
    "all_g_summaries['timestamp'] = pd.to_datetime(all_g_summaries['timestamp']) + timedelta( hours = 8 )\n",
    "all_g_summaries = all_g_summaries.sort_values(by=['timestamp'])  "
   ]
  },
  {
   "cell_type": "code",
   "execution_count": 17,
   "metadata": {},
   "outputs": [],
   "source": [
    "# if file is larger than 1GB, save it to a zip of the csv, otherwise simply save as csv\n",
    "\n",
    "if all_g_summaries.memory_usage(deep=True).sum() > 1000000000:\n",
    "    \n",
    "    compression_opts = dict(method='zip', archive_name='gardien.csv')  \n",
    "    \n",
    "    all_g_summaries.to_csv( os.path.join( os.getcwd(), 'log_summaries\\\\gardien.zip' ) , index = False ,\n",
    "                         compression = compression_opts)\n",
    "else:\n",
    "    all_g_summaries.to_csv(os.path.join( os.getcwd(), 'log_summaries\\\\gardien.csv') , index = False)"
   ]
  },
  {
   "cell_type": "markdown",
   "metadata": {},
   "source": [
    "# Cleaning"
   ]
  },
  {
   "cell_type": "code",
   "execution_count": null,
   "metadata": {},
   "outputs": [],
   "source": [
    "# Have sometimes erroneous messages e.g.\n",
    "\"\"\"\n",
    "date                  status            delta\n",
    "2021-04-20 17:47:07\t  Closed\t        0 days 11:02:30\n",
    "2021-04-20 17:47:09\t  Move_openning\t    0 days 00:00:02\n",
    "2021-04-20 17:47:10\t  Closed\t        0 days 00:00:01\n",
    "2021-04-21 17:46:08\t  Closed\t        0 days 23:58:58\n",
    "\n",
    "\"\"\"\n",
    "# Hence need to detect and remove these prior to analysis"
   ]
  },
  {
   "cell_type": "code",
   "execution_count": 4,
   "metadata": {
    "scrolled": true
   },
   "outputs": [
    {
     "data": {
      "text/html": [
       "<div>\n",
       "<style scoped>\n",
       "    .dataframe tbody tr th:only-of-type {\n",
       "        vertical-align: middle;\n",
       "    }\n",
       "\n",
       "    .dataframe tbody tr th {\n",
       "        vertical-align: top;\n",
       "    }\n",
       "\n",
       "    .dataframe thead th {\n",
       "        text-align: right;\n",
       "    }\n",
       "</style>\n",
       "<table border=\"1\" class=\"dataframe\">\n",
       "  <thead>\n",
       "    <tr style=\"text-align: right;\">\n",
       "      <th></th>\n",
       "      <th>timestamp</th>\n",
       "      <th>status</th>\n",
       "      <th>delta</th>\n",
       "    </tr>\n",
       "  </thead>\n",
       "  <tbody>\n",
       "    <tr>\n",
       "      <th>0</th>\n",
       "      <td>2013-11-27 21:43:19.488</td>\n",
       "      <td>Closed</td>\n",
       "      <td>0 days 01:00:00</td>\n",
       "    </tr>\n",
       "    <tr>\n",
       "      <th>1</th>\n",
       "      <td>2013-11-27 23:04:24.115</td>\n",
       "      <td>Opened</td>\n",
       "      <td>0 days 01:21:04.627000</td>\n",
       "    </tr>\n",
       "    <tr>\n",
       "      <th>2</th>\n",
       "      <td>2013-11-27 23:20:04.121</td>\n",
       "      <td>Closed</td>\n",
       "      <td>0 days 00:15:40.006000</td>\n",
       "    </tr>\n",
       "    <tr>\n",
       "      <th>3</th>\n",
       "      <td>2013-11-27 23:31:23.171</td>\n",
       "      <td>Opened</td>\n",
       "      <td>0 days 00:11:19.050000</td>\n",
       "    </tr>\n",
       "    <tr>\n",
       "      <th>4</th>\n",
       "      <td>2013-11-27 23:49:11.177</td>\n",
       "      <td>Closed</td>\n",
       "      <td>0 days 00:17:48.006000</td>\n",
       "    </tr>\n",
       "  </tbody>\n",
       "</table>\n",
       "</div>"
      ],
      "text/plain": [
       "                timestamp  status                  delta\n",
       "0 2013-11-27 21:43:19.488  Closed        0 days 01:00:00\n",
       "1 2013-11-27 23:04:24.115  Opened 0 days 01:21:04.627000\n",
       "2 2013-11-27 23:20:04.121  Closed 0 days 00:15:40.006000\n",
       "3 2013-11-27 23:31:23.171  Opened 0 days 00:11:19.050000\n",
       "4 2013-11-27 23:49:11.177  Closed 0 days 00:17:48.006000"
      ]
     },
     "execution_count": 4,
     "metadata": {},
     "output_type": "execute_result"
    }
   ],
   "source": [
    "roof_df = pd.read_csv( os.path.join( os.getcwd(), 'log_summaries\\\\gardien.csv'), parse_dates=['timestamp'] )\n",
    "\n",
    "# already have some degeneracy due to log files being over multiple days\n",
    "# i.e. Closed Closed. -> remove these initially\n",
    "\n",
    "roof_df = roof_df[ ~roof_df.status.eq( roof_df.status.shift(-1) ) ]\n",
    "\n",
    "# and define a delta column\n",
    "\n",
    "roof_df.loc[:,'delta'] = roof_df.timestamp - roof_df.timestamp.shift(1)\n",
    "roof_df.loc[0,'delta'] = timedelta( hours = 1 )\n",
    "roof_df.head()"
   ]
  },
  {
   "cell_type": "code",
   "execution_count": 5,
   "metadata": {},
   "outputs": [],
   "source": [
    "# typical erroneous rows will be short, and not actually change the status, hence the previous and next status will\n",
    "# be identical. The significant case where this may really occur are very short opening times, so leave those in.\n",
    "roof_df = roof_df[ roof_df.delta.ge(timedelta(minutes = 1)) | \n",
    "              ~( roof_df.shift(1).status.eq( roof_df.shift(-1).status ) & ~roof_df.status.eq(\"Opened\") ) ]"
   ]
  },
  {
   "cell_type": "code",
   "execution_count": 6,
   "metadata": {},
   "outputs": [
    {
     "name": "stdout",
     "output_type": "stream",
     "text": [
      "Number of 0 effect rows:  10\n"
     ]
    }
   ],
   "source": [
    "# also remain 10 cases where delta is exactly 0, which are errors, so remove them too\n",
    "print( \"Number of 0 effect rows: \", len(roof_df[ roof_df.delta.eq( timedelta( seconds = 0 ) ) ]) )\n",
    "\n",
    "roof_df = roof_df[ ~roof_df.delta.eq( timedelta( seconds = 0 ) ) ]"
   ]
  },
  {
   "cell_type": "code",
   "execution_count": 7,
   "metadata": {},
   "outputs": [],
   "source": [
    "# remove degeneracy again\n",
    "roof_df = roof_df[ ~roof_df.status.eq( roof_df.shift(-1).status ) ]\n",
    "# and redo deltas\n",
    "roof_df.loc[:,'delta'] = roof_df.timestamp - roof_df.timestamp.shift(1)\n",
    "roof_df.loc[0,'delta'] = timedelta( hours = 1 )"
   ]
  },
  {
   "cell_type": "code",
   "execution_count": 8,
   "metadata": {},
   "outputs": [
    {
     "data": {
      "text/plain": [
       "status\n",
       "Closed                         1\n",
       "Manual mode partly opened     14\n",
       "Move_closing                  78\n",
       "Move_openning                398\n",
       "Opened                        10\n",
       "dtype: int64"
      ]
     },
     "execution_count": 8,
     "metadata": {},
     "output_type": "execute_result"
    }
   ],
   "source": [
    "roof_df[roof_df.delta.lt(timedelta(seconds=60))].groupby(['status']).size()"
   ]
  },
  {
   "cell_type": "code",
   "execution_count": 7,
   "metadata": {},
   "outputs": [],
   "source": [
    "# There is only one less than 1min closure in the entire set, the rest of the short changes apply to \n",
    "# very short openings ( possible ), and being in the middle of changes, which is expected. Therefore keep the rest,"
   ]
  },
  {
   "cell_type": "markdown",
   "metadata": {},
   "source": [
    "# Analysis"
   ]
  },
  {
   "cell_type": "markdown",
   "metadata": {},
   "source": [
    "Want to analyse time deltas between opening and closing -> look to build a histogram of times"
   ]
  },
  {
   "cell_type": "code",
   "execution_count": 45,
   "metadata": {},
   "outputs": [],
   "source": [
    "from matplotlib import pyplot as plt"
   ]
  },
  {
   "cell_type": "code",
   "execution_count": 51,
   "metadata": {
    "scrolled": true
   },
   "outputs": [],
   "source": [
    "plt.style.use(\"seaborn\")"
   ]
  },
  {
   "cell_type": "code",
   "execution_count": 52,
   "metadata": {
    "scrolled": false
   },
   "outputs": [
    {
     "data": {
      "text/plain": [
       "[]"
      ]
     },
     "execution_count": 52,
     "metadata": {},
     "output_type": "execute_result"
    },
    {
     "data": {
      "image/png": "[encoded data removed]",
      "text/plain": [
       "<Figure size 576x396 with 1 Axes>"
      ]
     },
     "metadata": {},
     "output_type": "display_data"
    }
   ],
   "source": [
    "# plot a histogram showing frequencies of all status changes split by how long the previous state held\n",
    "hist = roof_df[ roof_df.status.eq(\"Closed\") & roof_df.delta.lt( timedelta(minutes = 120) ) ]['delta'].astype('timedelta64[m]').plot.hist(bins = 60)\n",
    "hist.set_title(\"Roof Closure Durations (t < 2 hr)\")\n",
    "hist.set_xlabel(\"Duration (min)\")\n",
    "hist.plot()"
   ]
  },
  {
   "cell_type": "code",
   "execution_count": 53,
   "metadata": {},
   "outputs": [
    {
     "data": {
      "text/plain": [
       "[]"
      ]
     },
     "execution_count": 53,
     "metadata": {},
     "output_type": "execute_result"
    },
    {
     "data": {
      "image/png": "[encoded data removed]",
      "text/plain": [
       "<Figure size 576x396 with 1 Axes>"
      ]
     },
     "metadata": {},
     "output_type": "display_data"
    }
   ],
   "source": [
    "hist = roof_df[ roof_df.status.eq(\"Opened\") & roof_df.delta.lt( timedelta(minutes = 120) ) ]['delta'].astype('timedelta64[m]').plot.hist(bins = 60)\n",
    "hist.set_title(\"Roof Opening Durations (t < 2 hr)\")\n",
    "hist.set_xlabel(\"Duration (min)\")\n",
    "hist.plot()"
   ]
  },
  {
   "cell_type": "code",
   "execution_count": 64,
   "metadata": {},
   "outputs": [
    {
     "data": {
      "text/plain": [
       "[]"
      ]
     },
     "execution_count": 64,
     "metadata": {},
     "output_type": "execute_result"
    },
    {
     "data": {
      "image/png": "[encoded data removed]",
      "text/plain": [
       "<Figure size 576x396 with 1 Axes>"
      ]
     },
     "metadata": {},
     "output_type": "display_data"
    }
   ],
   "source": [
    "hist2 = roof_df[ roof_df.delta.gt( timedelta(minutes = 120) ) & roof_df.delta.lt( timedelta(hours = 48) ) ]['delta'].astype('timedelta64[h]').plot.hist(bins = 46)\n",
    "hist2.set_title(\"Roof status durations (2 hr < t < 48 hr)\")\n",
    "hist2.set_xlabel(\"Duration (hr)\")\n",
    "hist2.plot()"
   ]
  },
  {
   "cell_type": "code",
   "execution_count": null,
   "metadata": {},
   "outputs": [],
   "source": []
  },
  {
   "cell_type": "code",
   "execution_count": 68,
   "metadata": {},
   "outputs": [
    {
     "data": {
      "text/plain": [
       "<AxesSubplot:ylabel='Frequency'>"
      ]
     },
     "execution_count": 68,
     "metadata": {},
     "output_type": "execute_result"
    },
    {
     "data": {
      "image/png": "[encoded data removed]",
      "text/plain": [
       "<Figure size 576x396 with 1 Axes>"
      ]
     },
     "metadata": {},
     "output_type": "display_data"
    }
   ],
   "source": [
    "roof_df[ roof_df.status.eq(\"Closed\") & roof_df.delta.gt( timedelta(hours = 48) ) & roof_df.delta.lt( timedelta(hours = 2000) ) ]['delta'].astype('timedelta64[h]').plot.hist(bins = 46)"
   ]
  },
  {
   "cell_type": "code",
   "execution_count": 511,
   "metadata": {
    "scrolled": true
   },
   "outputs": [
    {
     "data": {
      "text/html": [
       "<div>\n",
       "<style scoped>\n",
       "    .dataframe tbody tr th:only-of-type {\n",
       "        vertical-align: middle;\n",
       "    }\n",
       "\n",
       "    .dataframe tbody tr th {\n",
       "        vertical-align: top;\n",
       "    }\n",
       "\n",
       "    .dataframe thead th {\n",
       "        text-align: right;\n",
       "    }\n",
       "</style>\n",
       "<table border=\"1\" class=\"dataframe\">\n",
       "  <thead>\n",
       "    <tr style=\"text-align: right;\">\n",
       "      <th></th>\n",
       "      <th>delta</th>\n",
       "    </tr>\n",
       "    <tr>\n",
       "      <th>status</th>\n",
       "      <th></th>\n",
       "    </tr>\n",
       "  </thead>\n",
       "  <tbody>\n",
       "    <tr>\n",
       "      <th>Closed</th>\n",
       "      <td>1907 days 08:28:48.005000</td>\n",
       "    </tr>\n",
       "    <tr>\n",
       "      <th>Manual mode partly opened</th>\n",
       "      <td>32 days 20:01:55</td>\n",
       "    </tr>\n",
       "    <tr>\n",
       "      <th>Move_closing</th>\n",
       "      <td>96 days 08:14:29.037000</td>\n",
       "    </tr>\n",
       "    <tr>\n",
       "      <th>Move_openning</th>\n",
       "      <td>211 days 02:41:29.702000</td>\n",
       "    </tr>\n",
       "    <tr>\n",
       "      <th>Opened</th>\n",
       "      <td>481 days 05:12:18.454000</td>\n",
       "    </tr>\n",
       "    <tr>\n",
       "      <th>Stopped</th>\n",
       "      <td>0 days 00:01:03.314000</td>\n",
       "    </tr>\n",
       "  </tbody>\n",
       "</table>\n",
       "</div>"
      ],
      "text/plain": [
       "                                              delta\n",
       "status                                             \n",
       "Closed                    1907 days 08:28:48.005000\n",
       "Manual mode partly opened          32 days 20:01:55\n",
       "Move_closing                96 days 08:14:29.037000\n",
       "Move_openning              211 days 02:41:29.702000\n",
       "Opened                     481 days 05:12:18.454000\n",
       "Stopped                      0 days 00:01:03.314000"
      ]
     },
     "execution_count": 511,
     "metadata": {},
     "output_type": "execute_result"
    }
   ],
   "source": [
    "# See overall time the system spent in each state\n",
    "roof_df.groupby(by=['status']).sum() "
   ]
  },
  {
   "cell_type": "code",
   "execution_count": 759,
   "metadata": {
    "scrolled": true
   },
   "outputs": [
    {
     "data": {
      "text/html": [
       "<div>\n",
       "<style scoped>\n",
       "    .dataframe tbody tr th:only-of-type {\n",
       "        vertical-align: middle;\n",
       "    }\n",
       "\n",
       "    .dataframe tbody tr th {\n",
       "        vertical-align: top;\n",
       "    }\n",
       "\n",
       "    .dataframe thead th {\n",
       "        text-align: right;\n",
       "    }\n",
       "</style>\n",
       "<table border=\"1\" class=\"dataframe\">\n",
       "  <thead>\n",
       "    <tr style=\"text-align: right;\">\n",
       "      <th></th>\n",
       "      <th>timestamp</th>\n",
       "      <th>status</th>\n",
       "      <th>delta</th>\n",
       "    </tr>\n",
       "  </thead>\n",
       "  <tbody>\n",
       "    <tr>\n",
       "      <th>8600</th>\n",
       "      <td>2014-05-07 12:38:03.347</td>\n",
       "      <td>Move_openning</td>\n",
       "      <td>34 days 03:22:19.437000</td>\n",
       "    </tr>\n",
       "    <tr>\n",
       "      <th>8601</th>\n",
       "      <td>2014-06-18 18:26:56.255</td>\n",
       "      <td>Closed</td>\n",
       "      <td>42 days 05:48:52.908000</td>\n",
       "    </tr>\n",
       "    <tr>\n",
       "      <th>8774</th>\n",
       "      <td>2014-09-03 10:04:39.658</td>\n",
       "      <td>Move_openning</td>\n",
       "      <td>41 days 15:38:55.753000</td>\n",
       "    </tr>\n",
       "    <tr>\n",
       "      <th>9756</th>\n",
       "      <td>2015-03-31 19:12:13.909</td>\n",
       "      <td>Closed</td>\n",
       "      <td>18 days 06:29:20.500000</td>\n",
       "    </tr>\n",
       "    <tr>\n",
       "      <th>39097</th>\n",
       "      <td>2015-07-22 10:32:27.141</td>\n",
       "      <td>Move_closing</td>\n",
       "      <td>91 days 23:29:43.623000</td>\n",
       "    </tr>\n",
       "    <tr>\n",
       "      <th>39101</th>\n",
       "      <td>2015-08-26 18:22:21.086</td>\n",
       "      <td>Closed</td>\n",
       "      <td>28 days 07:29:29.235000</td>\n",
       "    </tr>\n",
       "    <tr>\n",
       "      <th>39108</th>\n",
       "      <td>2015-09-23 18:38:16.827</td>\n",
       "      <td>Closed</td>\n",
       "      <td>19 days 06:02:51.450000</td>\n",
       "    </tr>\n",
       "    <tr>\n",
       "      <th>41913</th>\n",
       "      <td>2016-12-07 16:37:55.068</td>\n",
       "      <td>Move_openning</td>\n",
       "      <td>16 days 12:07:47.201000</td>\n",
       "    </tr>\n",
       "    <tr>\n",
       "      <th>41948</th>\n",
       "      <td>2017-01-12 21:09:29.488</td>\n",
       "      <td>Closed</td>\n",
       "      <td>27 days 16:33:36.014000</td>\n",
       "    </tr>\n",
       "    <tr>\n",
       "      <th>41960</th>\n",
       "      <td>2017-01-31 23:47:27.174</td>\n",
       "      <td>Closed</td>\n",
       "      <td>18 days 19:02:14.045000</td>\n",
       "    </tr>\n",
       "    <tr>\n",
       "      <th>42821</th>\n",
       "      <td>2017-05-30 19:10:06.830</td>\n",
       "      <td>Closed</td>\n",
       "      <td>15 days 13:32:55.083000</td>\n",
       "    </tr>\n",
       "    <tr>\n",
       "      <th>44919</th>\n",
       "      <td>2019-01-15 20:03:22.000</td>\n",
       "      <td>Closed</td>\n",
       "      <td>213 days 16:35:39.895000</td>\n",
       "    </tr>\n",
       "  </tbody>\n",
       "</table>\n",
       "</div>"
      ],
      "text/plain": [
       "                    timestamp         status                    delta\n",
       "8600  2014-05-07 12:38:03.347  Move_openning  34 days 03:22:19.437000\n",
       "8601  2014-06-18 18:26:56.255         Closed  42 days 05:48:52.908000\n",
       "8774  2014-09-03 10:04:39.658  Move_openning  41 days 15:38:55.753000\n",
       "9756  2015-03-31 19:12:13.909         Closed  18 days 06:29:20.500000\n",
       "39097 2015-07-22 10:32:27.141   Move_closing  91 days 23:29:43.623000\n",
       "39101 2015-08-26 18:22:21.086         Closed  28 days 07:29:29.235000\n",
       "39108 2015-09-23 18:38:16.827         Closed  19 days 06:02:51.450000\n",
       "41913 2016-12-07 16:37:55.068  Move_openning  16 days 12:07:47.201000\n",
       "41948 2017-01-12 21:09:29.488         Closed  27 days 16:33:36.014000\n",
       "41960 2017-01-31 23:47:27.174         Closed  18 days 19:02:14.045000\n",
       "42821 2017-05-30 19:10:06.830         Closed  15 days 13:32:55.083000\n",
       "44919 2019-01-15 20:03:22.000         Closed 213 days 16:35:39.895000"
      ]
     },
     "execution_count": 759,
     "metadata": {},
     "output_type": "execute_result"
    }
   ],
   "source": [
    "# there are some long closures... we need to filter these somehow, especially if some of these closures mix\n",
    "# (closed due to rain) and (closed for other reason).\n",
    "roof_df[ roof_df.delta > timedelta(days = 15) ]"
   ]
  },
  {
   "cell_type": "markdown",
   "metadata": {},
   "source": [
    "# Now compare with pluie data"
   ]
  },
  {
   "cell_type": "code",
   "execution_count": 9,
   "metadata": {},
   "outputs": [
    {
     "data": {
      "text/html": [
       "<div>\n",
       "<style scoped>\n",
       "    .dataframe tbody tr th:only-of-type {\n",
       "        vertical-align: middle;\n",
       "    }\n",
       "\n",
       "    .dataframe tbody tr th {\n",
       "        vertical-align: top;\n",
       "    }\n",
       "\n",
       "    .dataframe thead th {\n",
       "        text-align: right;\n",
       "    }\n",
       "</style>\n",
       "<table border=\"1\" class=\"dataframe\">\n",
       "  <thead>\n",
       "    <tr style=\"text-align: right;\">\n",
       "      <th></th>\n",
       "      <th>date</th>\n",
       "      <th>pluie</th>\n",
       "      <th>delta</th>\n",
       "    </tr>\n",
       "  </thead>\n",
       "  <tbody>\n",
       "    <tr>\n",
       "      <th>0</th>\n",
       "      <td>2015-01-01 00:00:59</td>\n",
       "      <td>0</td>\n",
       "      <td>0 days 00:05:00</td>\n",
       "    </tr>\n",
       "    <tr>\n",
       "      <th>1</th>\n",
       "      <td>2015-01-01 00:05:59</td>\n",
       "      <td>0</td>\n",
       "      <td>0 days 00:05:00</td>\n",
       "    </tr>\n",
       "    <tr>\n",
       "      <th>2</th>\n",
       "      <td>2015-01-01 00:11:00</td>\n",
       "      <td>0</td>\n",
       "      <td>0 days 00:05:01</td>\n",
       "    </tr>\n",
       "    <tr>\n",
       "      <th>3</th>\n",
       "      <td>2015-01-01 00:16:01</td>\n",
       "      <td>0</td>\n",
       "      <td>0 days 00:05:01</td>\n",
       "    </tr>\n",
       "    <tr>\n",
       "      <th>4</th>\n",
       "      <td>2015-01-01 00:21:01</td>\n",
       "      <td>0</td>\n",
       "      <td>0 days 00:05:00</td>\n",
       "    </tr>\n",
       "    <tr>\n",
       "      <th>...</th>\n",
       "      <td>...</td>\n",
       "      <td>...</td>\n",
       "      <td>...</td>\n",
       "    </tr>\n",
       "    <tr>\n",
       "      <th>359155</th>\n",
       "      <td>2019-01-31 23:35:11</td>\n",
       "      <td>0</td>\n",
       "      <td>0 days 00:05:01</td>\n",
       "    </tr>\n",
       "    <tr>\n",
       "      <th>359156</th>\n",
       "      <td>2019-01-31 23:40:11</td>\n",
       "      <td>0</td>\n",
       "      <td>0 days 00:05:00</td>\n",
       "    </tr>\n",
       "    <tr>\n",
       "      <th>359157</th>\n",
       "      <td>2019-01-31 23:45:13</td>\n",
       "      <td>0</td>\n",
       "      <td>0 days 00:05:02</td>\n",
       "    </tr>\n",
       "    <tr>\n",
       "      <th>359158</th>\n",
       "      <td>2019-01-31 23:50:14</td>\n",
       "      <td>0</td>\n",
       "      <td>0 days 00:05:01</td>\n",
       "    </tr>\n",
       "    <tr>\n",
       "      <th>359159</th>\n",
       "      <td>2019-01-31 23:55:15</td>\n",
       "      <td>0</td>\n",
       "      <td>0 days 00:05:01</td>\n",
       "    </tr>\n",
       "  </tbody>\n",
       "</table>\n",
       "<p>359160 rows × 3 columns</p>\n",
       "</div>"
      ],
      "text/plain": [
       "                      date  pluie           delta\n",
       "0      2015-01-01 00:00:59      0 0 days 00:05:00\n",
       "1      2015-01-01 00:05:59      0 0 days 00:05:00\n",
       "2      2015-01-01 00:11:00      0 0 days 00:05:01\n",
       "3      2015-01-01 00:16:01      0 0 days 00:05:01\n",
       "4      2015-01-01 00:21:01      0 0 days 00:05:00\n",
       "...                    ...    ...             ...\n",
       "359155 2019-01-31 23:35:11      0 0 days 00:05:01\n",
       "359156 2019-01-31 23:40:11      0 0 days 00:05:00\n",
       "359157 2019-01-31 23:45:13      0 0 days 00:05:02\n",
       "359158 2019-01-31 23:50:14      0 0 days 00:05:01\n",
       "359159 2019-01-31 23:55:15      0 0 days 00:05:01\n",
       "\n",
       "[359160 rows x 3 columns]"
      ]
     },
     "execution_count": 9,
     "metadata": {},
     "output_type": "execute_result"
    }
   ],
   "source": [
    "s = \"C:\\\\Users\\\\Matvey Solovyov\\\\OneDrive\\\\Documents\\\\UWA\\\\2021_S1\\\\GinginWx\\\\gingin-weather\\\\modelData.csv\"\n",
    "\n",
    "# will only need pluie values\n",
    "wx_df = pd.read_csv(s, usecols=[\"date\",\"pluie\"], parse_dates=['date'])\n",
    "\n",
    "# only for when rain sensor was working (see Precip RF Models for why these days)\n",
    "\n",
    "wx_df = wx_df[ wx_df.date.gt( datetime( year = 2015, month = 1, day = 1 ) ) &\n",
    "         wx_df.date.lt( datetime( year = 2019, month = 2, day = 1)) ]\n",
    "\n",
    "wx_df = wx_df.sort_values(by=['date']).reset_index(drop=True)\n",
    "\n",
    "# define a timedelta column for weather observations\n",
    "wx_df.loc[:,'delta'] = wx_df.date - wx_df.date.shift(1)\n",
    "wx_df.loc[0,'delta'] = timedelta( minutes = 5 )\n",
    "wx_df"
   ]
  },
  {
   "cell_type": "markdown",
   "metadata": {},
   "source": [
    "### first check impact on roof_df"
   ]
  },
  {
   "cell_type": "code",
   "execution_count": 10,
   "metadata": {},
   "outputs": [],
   "source": [
    "def find_pluie_indelta(row, weather_df):\n",
    "    weather_chunk = weather_df[ (weather_df.date.le( row.timestamp )) & (weather_df.date.ge( row.timestamp - row.delta ))]\n",
    "    if len( weather_chunk ) > 0:\n",
    "        pluie = max( weather_chunk.pluie )\n",
    "    else:\n",
    "        pluie = 0\n",
    "    return pluie"
   ]
  },
  {
   "cell_type": "code",
   "execution_count": 11,
   "metadata": {
    "scrolled": false
   },
   "outputs": [
    {
     "data": {
      "text/html": [
       "<div>\n",
       "<style scoped>\n",
       "    .dataframe tbody tr th:only-of-type {\n",
       "        vertical-align: middle;\n",
       "    }\n",
       "\n",
       "    .dataframe tbody tr th {\n",
       "        vertical-align: top;\n",
       "    }\n",
       "\n",
       "    .dataframe thead th {\n",
       "        text-align: right;\n",
       "    }\n",
       "</style>\n",
       "<table border=\"1\" class=\"dataframe\">\n",
       "  <thead>\n",
       "    <tr style=\"text-align: right;\">\n",
       "      <th></th>\n",
       "      <th>timestamp</th>\n",
       "      <th>status</th>\n",
       "      <th>delta</th>\n",
       "      <th>pluie</th>\n",
       "    </tr>\n",
       "  </thead>\n",
       "  <tbody>\n",
       "    <tr>\n",
       "      <th>0</th>\n",
       "      <td>2013-11-27 21:43:19.488</td>\n",
       "      <td>Closed</td>\n",
       "      <td>0 days 01:00:00</td>\n",
       "      <td>0</td>\n",
       "    </tr>\n",
       "    <tr>\n",
       "      <th>1</th>\n",
       "      <td>2013-11-27 23:04:24.115</td>\n",
       "      <td>Opened</td>\n",
       "      <td>0 days 01:21:04.627000</td>\n",
       "      <td>0</td>\n",
       "    </tr>\n",
       "    <tr>\n",
       "      <th>2</th>\n",
       "      <td>2013-11-27 23:20:04.121</td>\n",
       "      <td>Closed</td>\n",
       "      <td>0 days 00:15:40.006000</td>\n",
       "      <td>0</td>\n",
       "    </tr>\n",
       "    <tr>\n",
       "      <th>3</th>\n",
       "      <td>2013-11-27 23:31:23.171</td>\n",
       "      <td>Opened</td>\n",
       "      <td>0 days 00:11:19.050000</td>\n",
       "      <td>0</td>\n",
       "    </tr>\n",
       "    <tr>\n",
       "      <th>4</th>\n",
       "      <td>2013-11-27 23:49:11.177</td>\n",
       "      <td>Closed</td>\n",
       "      <td>0 days 00:17:48.006000</td>\n",
       "      <td>0</td>\n",
       "    </tr>\n",
       "  </tbody>\n",
       "</table>\n",
       "</div>"
      ],
      "text/plain": [
       "                timestamp  status                  delta  pluie\n",
       "0 2013-11-27 21:43:19.488  Closed        0 days 01:00:00      0\n",
       "1 2013-11-27 23:04:24.115  Opened 0 days 01:21:04.627000      0\n",
       "2 2013-11-27 23:20:04.121  Closed 0 days 00:15:40.006000      0\n",
       "3 2013-11-27 23:31:23.171  Opened 0 days 00:11:19.050000      0\n",
       "4 2013-11-27 23:49:11.177  Closed 0 days 00:17:48.006000      0"
      ]
     },
     "execution_count": 11,
     "metadata": {},
     "output_type": "execute_result"
    }
   ],
   "source": [
    "# # take section of roof data that we have weather data for:\n",
    "# roof_df = roof_df[ roof_df.timestamp.le( wx_df.iloc[-1].date ) & roof_df.timestamp.ge( wx_df.iloc[0].date ) ]\n",
    "\n",
    "roof_df.loc[:,'pluie'] = roof_df.apply( find_pluie_indelta, args=(wx_df,), axis = 1 )\n",
    "roof_df.head()"
   ]
  },
  {
   "cell_type": "markdown",
   "metadata": {},
   "source": [
    "#### File stuff"
   ]
  },
  {
   "cell_type": "code",
   "execution_count": 12,
   "metadata": {},
   "outputs": [],
   "source": [
    "roof_df.to_csv( os.path.join( os.getcwd(), 'log_summaries\\\\roof_pluie.csv') , index=False)"
   ]
  },
  {
   "cell_type": "code",
   "execution_count": 4,
   "metadata": {},
   "outputs": [],
   "source": [
    "roof_df = pd.read_csv( os.path.join( os.getcwd(), 'log_summaries\\\\roof_pluie.csv') , parse_dates=['timestamp'])\n",
    "roof_df.delta = pd.to_timedelta( roof_df.delta )"
   ]
  },
  {
   "cell_type": "markdown",
   "metadata": {},
   "source": [
    "## Now merge with majordome data for SKYLIGHT (maybe reason later)"
   ]
  },
  {
   "cell_type": "code",
   "execution_count": 13,
   "metadata": {},
   "outputs": [],
   "source": [
    "mdome_df = pd.read_csv(  os.path.join( os.getcwd(), 'log_summaries\\\\majordome.csv'), parse_dates=['timestamp'] )\n",
    "mdome_df.sort_values( by=['timestamp'], inplace=True )"
   ]
  },
  {
   "cell_type": "code",
   "execution_count": 14,
   "metadata": {
    "scrolled": true
   },
   "outputs": [],
   "source": [
    "skylights = ['SUNSET','SUNRISE','DAY','NIGHT','DAWN','DUSK']\n",
    "\n",
    "sky_df = mdome_df[ mdome_df.desc.isin(skylights)].copy()\n",
    "sky_df = sky_df.sort_values( by=['timestamp'] )"
   ]
  },
  {
   "cell_type": "code",
   "execution_count": 15,
   "metadata": {},
   "outputs": [
    {
     "data": {
      "text/html": [
       "<div>\n",
       "<style scoped>\n",
       "    .dataframe tbody tr th:only-of-type {\n",
       "        vertical-align: middle;\n",
       "    }\n",
       "\n",
       "    .dataframe tbody tr th {\n",
       "        vertical-align: top;\n",
       "    }\n",
       "\n",
       "    .dataframe thead th {\n",
       "        text-align: right;\n",
       "    }\n",
       "</style>\n",
       "<table border=\"1\" class=\"dataframe\">\n",
       "  <thead>\n",
       "    <tr style=\"text-align: right;\">\n",
       "      <th></th>\n",
       "      <th>timestamp</th>\n",
       "      <th>desc</th>\n",
       "      <th>delta</th>\n",
       "    </tr>\n",
       "  </thead>\n",
       "  <tbody>\n",
       "    <tr>\n",
       "      <th>0</th>\n",
       "      <td>2013-11-24 18:52:27.520</td>\n",
       "      <td>DAY</td>\n",
       "      <td>0 days 00:02:32.859000</td>\n",
       "    </tr>\n",
       "    <tr>\n",
       "      <th>1</th>\n",
       "      <td>2013-11-24 18:55:00.379</td>\n",
       "      <td>NIGHT</td>\n",
       "      <td>0 days 20:26:53.980000</td>\n",
       "    </tr>\n",
       "    <tr>\n",
       "      <th>2</th>\n",
       "      <td>2013-11-25 15:21:54.359</td>\n",
       "      <td>DAY</td>\n",
       "      <td>0 days 03:33:57.221000</td>\n",
       "    </tr>\n",
       "    <tr>\n",
       "      <th>3</th>\n",
       "      <td>2013-11-25 18:55:51.580</td>\n",
       "      <td>NIGHT</td>\n",
       "      <td>0 days 10:14:05.043000</td>\n",
       "    </tr>\n",
       "    <tr>\n",
       "      <th>4</th>\n",
       "      <td>2013-11-26 05:09:56.623</td>\n",
       "      <td>DAY</td>\n",
       "      <td>0 days 13:46:48.933000</td>\n",
       "    </tr>\n",
       "    <tr>\n",
       "      <th>...</th>\n",
       "      <td>...</td>\n",
       "      <td>...</td>\n",
       "      <td>...</td>\n",
       "    </tr>\n",
       "    <tr>\n",
       "      <th>4625</th>\n",
       "      <td>2021-05-13 18:45:09.000</td>\n",
       "      <td>NIGHT</td>\n",
       "      <td>0 days 10:55:34</td>\n",
       "    </tr>\n",
       "    <tr>\n",
       "      <th>4626</th>\n",
       "      <td>2021-05-14 05:40:43.000</td>\n",
       "      <td>DAY</td>\n",
       "      <td>1 days 13:02:43</td>\n",
       "    </tr>\n",
       "    <tr>\n",
       "      <th>4627</th>\n",
       "      <td>2021-05-15 18:43:26.000</td>\n",
       "      <td>NIGHT</td>\n",
       "      <td>0 days 10:59:23</td>\n",
       "    </tr>\n",
       "    <tr>\n",
       "      <th>4628</th>\n",
       "      <td>2021-05-16 05:42:49.000</td>\n",
       "      <td>DAY</td>\n",
       "      <td>2 days 13:01:02</td>\n",
       "    </tr>\n",
       "    <tr>\n",
       "      <th>4629</th>\n",
       "      <td>2021-05-18 18:43:51.000</td>\n",
       "      <td>NIGHT</td>\n",
       "      <td>0 days 01:00:00</td>\n",
       "    </tr>\n",
       "  </tbody>\n",
       "</table>\n",
       "<p>4630 rows × 3 columns</p>\n",
       "</div>"
      ],
      "text/plain": [
       "                   timestamp   desc                  delta\n",
       "0    2013-11-24 18:52:27.520    DAY 0 days 00:02:32.859000\n",
       "1    2013-11-24 18:55:00.379  NIGHT 0 days 20:26:53.980000\n",
       "2    2013-11-25 15:21:54.359    DAY 0 days 03:33:57.221000\n",
       "3    2013-11-25 18:55:51.580  NIGHT 0 days 10:14:05.043000\n",
       "4    2013-11-26 05:09:56.623    DAY 0 days 13:46:48.933000\n",
       "...                      ...    ...                    ...\n",
       "4625 2021-05-13 18:45:09.000  NIGHT        0 days 10:55:34\n",
       "4626 2021-05-14 05:40:43.000    DAY        1 days 13:02:43\n",
       "4627 2021-05-15 18:43:26.000  NIGHT        0 days 10:59:23\n",
       "4628 2021-05-16 05:42:49.000    DAY        2 days 13:01:02\n",
       "4629 2021-05-18 18:43:51.000  NIGHT        0 days 01:00:00\n",
       "\n",
       "[4630 rows x 3 columns]"
      ]
     },
     "execution_count": 15,
     "metadata": {},
     "output_type": "execute_result"
    }
   ],
   "source": [
    "# for purposes of splitting weather/roof data, convenient to make skylight binary. \n",
    "sky_df.loc[ ~sky_df.desc.eq(\"NIGHT\") , 'desc' ] = \"DAY\"\n",
    "\n",
    "# where skylight is repeated, take only the first record\n",
    "sky_df = sky_df[ ~sky_df.desc.eq( sky_df.shift(1).desc )  ].copy()\n",
    "\n",
    "sky_df.reset_index(drop=True, inplace=True)\n",
    "\n",
    "sky_df['delta'] = sky_df.shift(-1).timestamp - sky_df.timestamp\n",
    "sky_df.loc[len(sky_df) - 1, 'delta'] = timedelta( hours = 1 )\n",
    "\n",
    "sky_df"
   ]
  },
  {
   "cell_type": "code",
   "execution_count": 83,
   "metadata": {},
   "outputs": [
    {
     "data": {
      "text/html": [
       "<div>\n",
       "<style scoped>\n",
       "    .dataframe tbody tr th:only-of-type {\n",
       "        vertical-align: middle;\n",
       "    }\n",
       "\n",
       "    .dataframe tbody tr th {\n",
       "        vertical-align: top;\n",
       "    }\n",
       "\n",
       "    .dataframe thead th {\n",
       "        text-align: right;\n",
       "    }\n",
       "</style>\n",
       "<table border=\"1\" class=\"dataframe\">\n",
       "  <thead>\n",
       "    <tr style=\"text-align: right;\">\n",
       "      <th></th>\n",
       "      <th>timestamp</th>\n",
       "      <th>desc</th>\n",
       "      <th>delta</th>\n",
       "    </tr>\n",
       "  </thead>\n",
       "  <tbody>\n",
       "    <tr>\n",
       "      <th>1</th>\n",
       "      <td>2013-11-24 18:55:00.379</td>\n",
       "      <td>NIGHT</td>\n",
       "      <td>0 days 20:26:53.980000</td>\n",
       "    </tr>\n",
       "    <tr>\n",
       "      <th>1563</th>\n",
       "      <td>2016-04-07 19:17:47.943</td>\n",
       "      <td>NIGHT</td>\n",
       "      <td>0 days 19:30:50.226000</td>\n",
       "    </tr>\n",
       "    <tr>\n",
       "      <th>1583</th>\n",
       "      <td>2016-04-17 19:06:30.320</td>\n",
       "      <td>NIGHT</td>\n",
       "      <td>1 days 11:42:11.091000</td>\n",
       "    </tr>\n",
       "    <tr>\n",
       "      <th>2169</th>\n",
       "      <td>2017-02-15 20:23:18.028</td>\n",
       "      <td>NIGHT</td>\n",
       "      <td>3 days 08:18:40.254000</td>\n",
       "    </tr>\n",
       "    <tr>\n",
       "      <th>2547</th>\n",
       "      <td>2017-09-06 19:13:20.949</td>\n",
       "      <td>NIGHT</td>\n",
       "      <td>0 days 19:27:07.223000</td>\n",
       "    </tr>\n",
       "    <tr>\n",
       "      <th>2549</th>\n",
       "      <td>2017-09-07 19:13:54.545</td>\n",
       "      <td>NIGHT</td>\n",
       "      <td>3 days 19:11:32.543000</td>\n",
       "    </tr>\n",
       "    <tr>\n",
       "      <th>2573</th>\n",
       "      <td>2017-10-06 21:04:10.911</td>\n",
       "      <td>NIGHT</td>\n",
       "      <td>2 days 10:41:21.104000</td>\n",
       "    </tr>\n",
       "    <tr>\n",
       "      <th>2617</th>\n",
       "      <td>2017-11-10 20:05:48.903</td>\n",
       "      <td>NIGHT</td>\n",
       "      <td>2 days 18:38:41.334000</td>\n",
       "    </tr>\n",
       "    <tr>\n",
       "      <th>3045</th>\n",
       "      <td>2018-06-16 18:37:41.012</td>\n",
       "      <td>NIGHT</td>\n",
       "      <td>127 days 10:37:20.988000</td>\n",
       "    </tr>\n",
       "    <tr>\n",
       "      <th>3091</th>\n",
       "      <td>2018-11-13 20:08:49.000</td>\n",
       "      <td>NIGHT</td>\n",
       "      <td>0 days 17:26:13</td>\n",
       "    </tr>\n",
       "    <tr>\n",
       "      <th>3109</th>\n",
       "      <td>2018-11-22 20:18:57.000</td>\n",
       "      <td>NIGHT</td>\n",
       "      <td>4 days 18:16:11</td>\n",
       "    </tr>\n",
       "    <tr>\n",
       "      <th>3325</th>\n",
       "      <td>2019-03-18 19:44:06.000</td>\n",
       "      <td>NIGHT</td>\n",
       "      <td>0 days 19:06:27</td>\n",
       "    </tr>\n",
       "    <tr>\n",
       "      <th>4597</th>\n",
       "      <td>2021-04-20 19:03:25.000</td>\n",
       "      <td>NIGHT</td>\n",
       "      <td>0 days 22:42:01</td>\n",
       "    </tr>\n",
       "  </tbody>\n",
       "</table>\n",
       "</div>"
      ],
      "text/plain": [
       "                   timestamp   desc                    delta\n",
       "1    2013-11-24 18:55:00.379  NIGHT   0 days 20:26:53.980000\n",
       "1563 2016-04-07 19:17:47.943  NIGHT   0 days 19:30:50.226000\n",
       "1583 2016-04-17 19:06:30.320  NIGHT   1 days 11:42:11.091000\n",
       "2169 2017-02-15 20:23:18.028  NIGHT   3 days 08:18:40.254000\n",
       "2547 2017-09-06 19:13:20.949  NIGHT   0 days 19:27:07.223000\n",
       "2549 2017-09-07 19:13:54.545  NIGHT   3 days 19:11:32.543000\n",
       "2573 2017-10-06 21:04:10.911  NIGHT   2 days 10:41:21.104000\n",
       "2617 2017-11-10 20:05:48.903  NIGHT   2 days 18:38:41.334000\n",
       "3045 2018-06-16 18:37:41.012  NIGHT 127 days 10:37:20.988000\n",
       "3091 2018-11-13 20:08:49.000  NIGHT          0 days 17:26:13\n",
       "3109 2018-11-22 20:18:57.000  NIGHT          4 days 18:16:11\n",
       "3325 2019-03-18 19:44:06.000  NIGHT          0 days 19:06:27\n",
       "4597 2021-04-20 19:03:25.000  NIGHT          0 days 22:42:01"
      ]
     },
     "execution_count": 83,
     "metadata": {},
     "output_type": "execute_result"
    }
   ],
   "source": [
    "sky_df[ sky_df.desc.eq(\"NIGHT\") & sky_df.delta.ge(timedelta(hours = 17)) ]"
   ]
  },
  {
   "cell_type": "code",
   "execution_count": 16,
   "metadata": {},
   "outputs": [],
   "source": [
    "def find_skylights_andsplits(row, sky_df, ts, delta):\n",
    "    sky_end = sky_df[ sky_df.timestamp.le( row[ ts ] ) ].iloc[-1]\n",
    "    sky_start = sky_df[ sky_df.timestamp.le( row[ ts ] - row[ delta ] ) ].iloc[-1]\n",
    "    \n",
    "    # Look for skylights that were active while this roof_df row was as well\n",
    "    sky = sky_df[ sky_df.timestamp.le(sky_end.timestamp) &\n",
    "                  sky_df.timestamp.ge( sky_start.timestamp ) \n",
    "                ]\n",
    "    \n",
    "    new_row = row.copy()\n",
    "    \n",
    "    if len( sky ) > 1:\n",
    "        # reset the index since will be working with .loc\n",
    "        new_sky = sky.reset_index( drop = True )\n",
    "        \n",
    "        # change deltas to reflect the time applying to this row\n",
    "        new_sky.loc[0, 'delta'] = (new_sky.iloc[0].timestamp + new_sky.iloc[0].delta) - (row[ts] - row[delta])\n",
    "        new_sky.loc[ len(sky) - 1, 'delta' ] = row[ts] - new_sky.iloc[-1].timestamp\n",
    "        \n",
    "        # try filtering small skylights out to hopefully be left with a big one\n",
    "        filtered_sky = new_sky[ new_sky.delta.gt( timedelta( minutes = 5 ) ) ]\n",
    "        \n",
    "        # if after extra filtering there are multiple contributing skylights, need to split\n",
    "        if len( filtered_sky ) > 1:\n",
    "            # Have more than one skylight, will need to split into multiple rows using explode\n",
    "            # Set the timestamp to a list of timestamps into which we will then explode\n",
    "            splits = list( filtered_sky.iloc[1:].timestamp )\n",
    "            splits.append( new_row[ ts ] )\n",
    "\n",
    "            new_row[ ts ] = splits\n",
    "            new_row['skylight'] = row.name\n",
    "        elif len( filtered_sky == 1 ):\n",
    "            new_row['skylight'] = filtered_sky.iloc[0].desc\n",
    "        else:\n",
    "            # Must have multiple small skylight rows applicable. Here we will just take the maximum           \n",
    "            new_row['skylight'] = new_sky.iloc[ new_sky.delta.idxmax() ].desc\n",
    "            \n",
    "    else:\n",
    "        new_row['skylight'] = sky.iloc[-1].desc\n",
    "        \n",
    "    # add a column to keep track of long deltas that may be split by skylights:\n",
    "    new_row['gt_48hr'] = (True if row[ delta ] > timedelta(hours = 48) else False)\n",
    "    \n",
    "    return new_row"
   ]
  },
  {
   "cell_type": "code",
   "execution_count": 17,
   "metadata": {},
   "outputs": [],
   "source": [
    "def find_skylight_forsplits(row, sky_df, row_df, ts, delta):\n",
    "    if row.skylight not in [\"DAY\", \"NIGHT\"]:\n",
    "        new_row = row.copy()\n",
    "\n",
    "        # now we can be sure actual skylight for this section is that which was active within 1 minute prior.\n",
    "        new_row.skylight = sky_df[ sky_df.timestamp.le( row[ ts ] - timedelta( minutes = 1 ) ) ].iloc[-1].desc\n",
    "        \n",
    "        return new_row"
   ]
  },
  {
   "cell_type": "code",
   "execution_count": 18,
   "metadata": {},
   "outputs": [],
   "source": [
    "def find_skylight( base_df, sky_df, ts, delta ):\n",
    "    # base_df is the df for which we're finding corresponding skylight\n",
    "    # ts and delta are the field names for the timestamp and delta fields in the base_df\n",
    "    # sky_df is the df containing skylight data\n",
    "    \n",
    "    new_base_df = base_df.copy()\n",
    "    new_base_df = new_base_df.apply( find_skylights_andsplits, args=(sky_df, ts, delta), axis = 1 ).explode(ts)\n",
    "    \n",
    "    # find splits only for the split df\n",
    "    new_base_df[ ~new_base_df.skylight.isin( ['DAY','NIGHT'] ) ] = new_base_df[ \n",
    "        ~new_base_df.skylight.isin( ['DAY','NIGHT'] ) \n",
    "    ].apply( find_skylight_forsplits, args=(sky_df, base_df, ts, delta), axis = 1 )\n",
    "    \n",
    "    new_base_df[ delta ] = new_base_df[ ts ] - new_base_df[ ts ].shift(1)\n",
    "    new_base_df.reset_index( drop=True, inplace=True )\n",
    "    \n",
    "    # if ts is date, its the wx_df and default timedelta is 5 min. Otherwise it's a roof one and default is 60min.\n",
    "    default_td = (5 if ts==\"date\" else 60)\n",
    "    new_base_df.loc[0, delta] = timedelta( minutes = default_td )\n",
    "    \n",
    "    return new_base_df"
   ]
  },
  {
   "cell_type": "markdown",
   "metadata": {},
   "source": [
    "## Analyse roof based set using Skylight info"
   ]
  },
  {
   "cell_type": "code",
   "execution_count": 19,
   "metadata": {},
   "outputs": [
    {
     "data": {
      "text/html": [
       "<div>\n",
       "<style scoped>\n",
       "    .dataframe tbody tr th:only-of-type {\n",
       "        vertical-align: middle;\n",
       "    }\n",
       "\n",
       "    .dataframe tbody tr th {\n",
       "        vertical-align: top;\n",
       "    }\n",
       "\n",
       "    .dataframe thead th {\n",
       "        text-align: right;\n",
       "    }\n",
       "</style>\n",
       "<table border=\"1\" class=\"dataframe\">\n",
       "  <thead>\n",
       "    <tr style=\"text-align: right;\">\n",
       "      <th></th>\n",
       "      <th>timestamp</th>\n",
       "      <th>status</th>\n",
       "      <th>delta</th>\n",
       "      <th>pluie</th>\n",
       "      <th>skylight</th>\n",
       "      <th>gt_48hr</th>\n",
       "    </tr>\n",
       "  </thead>\n",
       "  <tbody>\n",
       "    <tr>\n",
       "      <th>0</th>\n",
       "      <td>2013-11-27 21:43:19.488</td>\n",
       "      <td>Closed</td>\n",
       "      <td>0 days 01:00:00</td>\n",
       "      <td>0</td>\n",
       "      <td>NIGHT</td>\n",
       "      <td>False</td>\n",
       "    </tr>\n",
       "    <tr>\n",
       "      <th>1</th>\n",
       "      <td>2013-11-27 23:04:24.115</td>\n",
       "      <td>Opened</td>\n",
       "      <td>0 days 01:21:04.627000</td>\n",
       "      <td>0</td>\n",
       "      <td>NIGHT</td>\n",
       "      <td>False</td>\n",
       "    </tr>\n",
       "    <tr>\n",
       "      <th>2</th>\n",
       "      <td>2013-11-27 23:20:04.121</td>\n",
       "      <td>Closed</td>\n",
       "      <td>0 days 00:15:40.006000</td>\n",
       "      <td>0</td>\n",
       "      <td>NIGHT</td>\n",
       "      <td>False</td>\n",
       "    </tr>\n",
       "    <tr>\n",
       "      <th>3</th>\n",
       "      <td>2013-11-27 23:31:23.171</td>\n",
       "      <td>Opened</td>\n",
       "      <td>0 days 00:11:19.050000</td>\n",
       "      <td>0</td>\n",
       "      <td>NIGHT</td>\n",
       "      <td>False</td>\n",
       "    </tr>\n",
       "    <tr>\n",
       "      <th>4</th>\n",
       "      <td>2013-11-27 23:49:11.177</td>\n",
       "      <td>Closed</td>\n",
       "      <td>0 days 00:17:48.006000</td>\n",
       "      <td>0</td>\n",
       "      <td>NIGHT</td>\n",
       "      <td>False</td>\n",
       "    </tr>\n",
       "  </tbody>\n",
       "</table>\n",
       "</div>"
      ],
      "text/plain": [
       "                timestamp  status                  delta  pluie skylight  \\\n",
       "0 2013-11-27 21:43:19.488  Closed        0 days 01:00:00      0    NIGHT   \n",
       "1 2013-11-27 23:04:24.115  Opened 0 days 01:21:04.627000      0    NIGHT   \n",
       "2 2013-11-27 23:20:04.121  Closed 0 days 00:15:40.006000      0    NIGHT   \n",
       "3 2013-11-27 23:31:23.171  Opened 0 days 00:11:19.050000      0    NIGHT   \n",
       "4 2013-11-27 23:49:11.177  Closed 0 days 00:17:48.006000      0    NIGHT   \n",
       "\n",
       "   gt_48hr  \n",
       "0    False  \n",
       "1    False  \n",
       "2    False  \n",
       "3    False  \n",
       "4    False  "
      ]
     },
     "execution_count": 19,
     "metadata": {},
     "output_type": "execute_result"
    }
   ],
   "source": [
    "roof_df_sky = find_skylight( roof_df, sky_df, \"timestamp\", \"delta\" )\n",
    "roof_df_sky.head()"
   ]
  },
  {
   "cell_type": "code",
   "execution_count": 20,
   "metadata": {
    "scrolled": false
   },
   "outputs": [
    {
     "data": {
      "text/html": [
       "<div>\n",
       "<style scoped>\n",
       "    .dataframe tbody tr th:only-of-type {\n",
       "        vertical-align: middle;\n",
       "    }\n",
       "\n",
       "    .dataframe tbody tr th {\n",
       "        vertical-align: top;\n",
       "    }\n",
       "\n",
       "    .dataframe thead th {\n",
       "        text-align: right;\n",
       "    }\n",
       "</style>\n",
       "<table border=\"1\" class=\"dataframe\">\n",
       "  <thead>\n",
       "    <tr style=\"text-align: right;\">\n",
       "      <th></th>\n",
       "      <th>timestamp</th>\n",
       "      <th>status</th>\n",
       "      <th>delta</th>\n",
       "      <th>pluie</th>\n",
       "      <th>skylight</th>\n",
       "      <th>gt_48hr</th>\n",
       "    </tr>\n",
       "  </thead>\n",
       "  <tbody>\n",
       "    <tr>\n",
       "      <th>0</th>\n",
       "      <td>2013-11-27 21:43:19.488</td>\n",
       "      <td>Closed</td>\n",
       "      <td>0 days 01:00:00</td>\n",
       "      <td>0</td>\n",
       "      <td>NIGHT</td>\n",
       "      <td>False</td>\n",
       "    </tr>\n",
       "    <tr>\n",
       "      <th>1</th>\n",
       "      <td>2013-11-27 23:04:24.115</td>\n",
       "      <td>Opened</td>\n",
       "      <td>0 days 01:21:04.627000</td>\n",
       "      <td>0</td>\n",
       "      <td>NIGHT</td>\n",
       "      <td>False</td>\n",
       "    </tr>\n",
       "    <tr>\n",
       "      <th>2</th>\n",
       "      <td>2013-11-27 23:20:04.121</td>\n",
       "      <td>Closed</td>\n",
       "      <td>0 days 00:15:40.006000</td>\n",
       "      <td>0</td>\n",
       "      <td>NIGHT</td>\n",
       "      <td>False</td>\n",
       "    </tr>\n",
       "    <tr>\n",
       "      <th>3</th>\n",
       "      <td>2013-11-27 23:31:23.171</td>\n",
       "      <td>Opened</td>\n",
       "      <td>0 days 00:11:19.050000</td>\n",
       "      <td>0</td>\n",
       "      <td>NIGHT</td>\n",
       "      <td>False</td>\n",
       "    </tr>\n",
       "    <tr>\n",
       "      <th>4</th>\n",
       "      <td>2013-11-27 23:49:11.177</td>\n",
       "      <td>Closed</td>\n",
       "      <td>0 days 00:17:48.006000</td>\n",
       "      <td>0</td>\n",
       "      <td>NIGHT</td>\n",
       "      <td>False</td>\n",
       "    </tr>\n",
       "  </tbody>\n",
       "</table>\n",
       "</div>"
      ],
      "text/plain": [
       "                timestamp  status                  delta  pluie skylight  \\\n",
       "0 2013-11-27 21:43:19.488  Closed        0 days 01:00:00      0    NIGHT   \n",
       "1 2013-11-27 23:04:24.115  Opened 0 days 01:21:04.627000      0    NIGHT   \n",
       "2 2013-11-27 23:20:04.121  Closed 0 days 00:15:40.006000      0    NIGHT   \n",
       "3 2013-11-27 23:31:23.171  Opened 0 days 00:11:19.050000      0    NIGHT   \n",
       "4 2013-11-27 23:49:11.177  Closed 0 days 00:17:48.006000      0    NIGHT   \n",
       "\n",
       "   gt_48hr  \n",
       "0    False  \n",
       "1    False  \n",
       "2    False  \n",
       "3    False  \n",
       "4    False  "
      ]
     },
     "execution_count": 20,
     "metadata": {},
     "output_type": "execute_result"
    }
   ],
   "source": [
    "# re-do pluie\n",
    "roof_df_sky.loc[:,'pluie'] = roof_df_sky.apply( find_pluie_indelta, args=(wx_df,), axis = 1 )\n",
    "roof_df_sky.head()"
   ]
  },
  {
   "cell_type": "code",
   "execution_count": 773,
   "metadata": {
    "scrolled": true
   },
   "outputs": [
    {
     "data": {
      "text/plain": [
       "status\n",
       "Closed                      0 days 00:00:56.304000\n",
       "Manual mode partly opened          0 days 00:06:36\n",
       "Move_closing                0 days 00:05:38.200000\n",
       "Move_openning               0 days 00:34:54.686000\n",
       "Opened                      0 days 00:04:28.948000\n",
       "Name: delta, dtype: timedelta64[ns]"
      ]
     },
     "execution_count": 773,
     "metadata": {},
     "output_type": "execute_result"
    }
   ],
   "source": [
    "roof_df_sky[ roof_df_sky.delta.le(timedelta(minutes = 1)) ].groupby(['status']).delta.sum()"
   ]
  },
  {
   "cell_type": "code",
   "execution_count": 774,
   "metadata": {
    "scrolled": true
   },
   "outputs": [
    {
     "data": {
      "text/plain": [
       "status\n",
       "Closed                      0 days 00:00:56.304000\n",
       "Manual mode partly opened          0 days 00:06:36\n",
       "Move_closing                0 days 00:05:38.200000\n",
       "Move_openning               0 days 00:34:54.686000\n",
       "Opened                      0 days 00:04:28.948000\n",
       "Name: delta, dtype: timedelta64[ns]"
      ]
     },
     "execution_count": 774,
     "metadata": {},
     "output_type": "execute_result"
    }
   ],
   "source": [
    "roof_df[ roof_df.delta.le(timedelta(minutes=1)) ].groupby(['status']).delta.sum()"
   ]
  },
  {
   "cell_type": "markdown",
   "metadata": {},
   "source": [
    "#### File Stuff"
   ]
  },
  {
   "cell_type": "code",
   "execution_count": 21,
   "metadata": {},
   "outputs": [],
   "source": [
    "roof_df_sky.to_csv( os.path.join( os.getcwd(), 'log_summaries\\\\roofdf_skylight.csv'), index=False )"
   ]
  },
  {
   "cell_type": "code",
   "execution_count": 2,
   "metadata": {},
   "outputs": [],
   "source": [
    "roof_df_sky = pd.read_csv( os.path.join( os.getcwd(), 'log_summaries\\\\roofdf_skylight.csv'), parse_dates=['timestamp'] )\n",
    "roof_df_sky.loc[:,'delta'] = pd.to_timedelta(roof_df_sky.delta)"
   ]
  },
  {
   "cell_type": "code",
   "execution_count": 30,
   "metadata": {},
   "outputs": [],
   "source": [
    "## NOTE - the skylight splits deltas on day / night change. This means deltas spanning over multiple days should be split\n",
    "## unless there is a problem, where the skylight is not recorded.\n",
    "## Therefore, any delta greater than say 15 hours (rather than 48) is likely erroneous."
   ]
  },
  {
   "cell_type": "markdown",
   "metadata": {},
   "source": [
    "## Analysis"
   ]
  },
  {
   "cell_type": "markdown",
   "metadata": {},
   "source": [
    "## Analyse weather data using skylight info"
   ]
  },
  {
   "cell_type": "code",
   "execution_count": 22,
   "metadata": {
    "scrolled": true
   },
   "outputs": [
    {
     "data": {
      "text/html": [
       "<div>\n",
       "<style scoped>\n",
       "    .dataframe tbody tr th:only-of-type {\n",
       "        vertical-align: middle;\n",
       "    }\n",
       "\n",
       "    .dataframe tbody tr th {\n",
       "        vertical-align: top;\n",
       "    }\n",
       "\n",
       "    .dataframe thead th {\n",
       "        text-align: right;\n",
       "    }\n",
       "</style>\n",
       "<table border=\"1\" class=\"dataframe\">\n",
       "  <thead>\n",
       "    <tr style=\"text-align: right;\">\n",
       "      <th></th>\n",
       "      <th>date</th>\n",
       "      <th>pluie</th>\n",
       "      <th>delta</th>\n",
       "      <th>skylight</th>\n",
       "      <th>gt_48hr</th>\n",
       "    </tr>\n",
       "  </thead>\n",
       "  <tbody>\n",
       "    <tr>\n",
       "      <th>0</th>\n",
       "      <td>2015-01-01 00:00:59</td>\n",
       "      <td>0</td>\n",
       "      <td>0 days 00:05:00</td>\n",
       "      <td>NIGHT</td>\n",
       "      <td>False</td>\n",
       "    </tr>\n",
       "    <tr>\n",
       "      <th>1</th>\n",
       "      <td>2015-01-01 00:05:59</td>\n",
       "      <td>0</td>\n",
       "      <td>0 days 00:05:00</td>\n",
       "      <td>NIGHT</td>\n",
       "      <td>False</td>\n",
       "    </tr>\n",
       "    <tr>\n",
       "      <th>2</th>\n",
       "      <td>2015-01-01 00:11:00</td>\n",
       "      <td>0</td>\n",
       "      <td>0 days 00:05:01</td>\n",
       "      <td>NIGHT</td>\n",
       "      <td>False</td>\n",
       "    </tr>\n",
       "    <tr>\n",
       "      <th>3</th>\n",
       "      <td>2015-01-01 00:16:01</td>\n",
       "      <td>0</td>\n",
       "      <td>0 days 00:05:01</td>\n",
       "      <td>NIGHT</td>\n",
       "      <td>False</td>\n",
       "    </tr>\n",
       "    <tr>\n",
       "      <th>4</th>\n",
       "      <td>2015-01-01 00:21:01</td>\n",
       "      <td>0</td>\n",
       "      <td>0 days 00:05:00</td>\n",
       "      <td>NIGHT</td>\n",
       "      <td>False</td>\n",
       "    </tr>\n",
       "  </tbody>\n",
       "</table>\n",
       "</div>"
      ],
      "text/plain": [
       "                 date  pluie           delta skylight  gt_48hr\n",
       "0 2015-01-01 00:00:59      0 0 days 00:05:00    NIGHT    False\n",
       "1 2015-01-01 00:05:59      0 0 days 00:05:00    NIGHT    False\n",
       "2 2015-01-01 00:11:00      0 0 days 00:05:01    NIGHT    False\n",
       "3 2015-01-01 00:16:01      0 0 days 00:05:01    NIGHT    False\n",
       "4 2015-01-01 00:21:01      0 0 days 00:05:00    NIGHT    False"
      ]
     },
     "execution_count": 22,
     "metadata": {},
     "output_type": "execute_result"
    }
   ],
   "source": [
    "wx_df_sky = find_skylight(wx_df, sky_df, \"date\", \"delta\" ) \n",
    "wx_df_sky.head()"
   ]
  },
  {
   "cell_type": "code",
   "execution_count": 23,
   "metadata": {},
   "outputs": [],
   "source": [
    "wx_df_sky.to_csv( os.path.join( os.getcwd(), 'log_summaries\\\\wx_df_skylight.csv'), index=False )"
   ]
  },
  {
   "cell_type": "code",
   "execution_count": 15,
   "metadata": {},
   "outputs": [
    {
     "data": {
      "text/html": [
       "<div>\n",
       "<style scoped>\n",
       "    .dataframe tbody tr th:only-of-type {\n",
       "        vertical-align: middle;\n",
       "    }\n",
       "\n",
       "    .dataframe tbody tr th {\n",
       "        vertical-align: top;\n",
       "    }\n",
       "\n",
       "    .dataframe thead th {\n",
       "        text-align: right;\n",
       "    }\n",
       "</style>\n",
       "<table border=\"1\" class=\"dataframe\">\n",
       "  <thead>\n",
       "    <tr style=\"text-align: right;\">\n",
       "      <th></th>\n",
       "      <th>date</th>\n",
       "      <th>pluie</th>\n",
       "      <th>delta</th>\n",
       "      <th>skylight</th>\n",
       "    </tr>\n",
       "  </thead>\n",
       "  <tbody>\n",
       "    <tr>\n",
       "      <th>0</th>\n",
       "      <td>2015-02-19 21:18:32</td>\n",
       "      <td>0</td>\n",
       "      <td>0 days 00:05:00</td>\n",
       "      <td>NIGHT</td>\n",
       "    </tr>\n",
       "    <tr>\n",
       "      <th>1</th>\n",
       "      <td>2015-02-19 21:23:33</td>\n",
       "      <td>1</td>\n",
       "      <td>0 days 00:05:01</td>\n",
       "      <td>NIGHT</td>\n",
       "    </tr>\n",
       "    <tr>\n",
       "      <th>2</th>\n",
       "      <td>2015-02-19 21:28:35</td>\n",
       "      <td>0</td>\n",
       "      <td>0 days 00:05:02</td>\n",
       "      <td>NIGHT</td>\n",
       "    </tr>\n",
       "    <tr>\n",
       "      <th>3</th>\n",
       "      <td>2015-02-19 21:33:36</td>\n",
       "      <td>0</td>\n",
       "      <td>0 days 00:05:01</td>\n",
       "      <td>NIGHT</td>\n",
       "    </tr>\n",
       "    <tr>\n",
       "      <th>4</th>\n",
       "      <td>2015-02-19 21:38:37</td>\n",
       "      <td>0</td>\n",
       "      <td>0 days 00:05:01</td>\n",
       "      <td>NIGHT</td>\n",
       "    </tr>\n",
       "  </tbody>\n",
       "</table>\n",
       "</div>"
      ],
      "text/plain": [
       "                 date  pluie           delta skylight\n",
       "0 2015-02-19 21:18:32      0 0 days 00:05:00    NIGHT\n",
       "1 2015-02-19 21:23:33      1 0 days 00:05:01    NIGHT\n",
       "2 2015-02-19 21:28:35      0 0 days 00:05:02    NIGHT\n",
       "3 2015-02-19 21:33:36      0 0 days 00:05:01    NIGHT\n",
       "4 2015-02-19 21:38:37      0 0 days 00:05:01    NIGHT"
      ]
     },
     "execution_count": 15,
     "metadata": {},
     "output_type": "execute_result"
    }
   ],
   "source": [
    "wx_df_sky = pd.read_csv( os.path.join( os.getcwd(), 'log_summaries\\\\wx_df_skylight.csv'), parse_dates = ['date'] )\n",
    "wx_df_sky.loc[:,'delta'] = pd.to_timedelta(wx_df_sky.delta)\n",
    "wx_df_sky.head()"
   ]
  },
  {
   "cell_type": "markdown",
   "metadata": {},
   "source": [
    "## Now combine weather data with roof data"
   ]
  },
  {
   "cell_type": "code",
   "execution_count": 24,
   "metadata": {},
   "outputs": [],
   "source": [
    "def find_roof_status(row, roof_df):\n",
    "    next_statuses = roof_df[ roof_df.timestamp.ge( row.date ) ]\n",
    "    if len(next_statuses) > 0:\n",
    "        current_state = next_statuses.iloc[0]\n",
    "        change_delta = current_state.delta\n",
    "        current_status = current_state.status\n",
    "        change_id = current_state.name\n",
    "    else:\n",
    "        print(\"Didn't find status for row \", row.name)\n",
    "        current_status, change_delta, change_id = np.nan, np.nan, np.nan\n",
    "    \n",
    "    row = row.copy()\n",
    "    row['current_status'] = current_status\n",
    "    row['change_delta'] = change_delta\n",
    "    row['change_id'] = change_id\n",
    "    return row"
   ]
  },
  {
   "cell_type": "code",
   "execution_count": 25,
   "metadata": {},
   "outputs": [
    {
     "data": {
      "text/html": [
       "<div>\n",
       "<style scoped>\n",
       "    .dataframe tbody tr th:only-of-type {\n",
       "        vertical-align: middle;\n",
       "    }\n",
       "\n",
       "    .dataframe tbody tr th {\n",
       "        vertical-align: top;\n",
       "    }\n",
       "\n",
       "    .dataframe thead th {\n",
       "        text-align: right;\n",
       "    }\n",
       "</style>\n",
       "<table border=\"1\" class=\"dataframe\">\n",
       "  <thead>\n",
       "    <tr style=\"text-align: right;\">\n",
       "      <th></th>\n",
       "      <th>date</th>\n",
       "      <th>pluie</th>\n",
       "      <th>delta</th>\n",
       "      <th>skylight</th>\n",
       "      <th>gt_48hr</th>\n",
       "      <th>current_status</th>\n",
       "      <th>change_delta</th>\n",
       "      <th>change_id</th>\n",
       "    </tr>\n",
       "  </thead>\n",
       "  <tbody>\n",
       "    <tr>\n",
       "      <th>0</th>\n",
       "      <td>2015-01-01 00:00:59</td>\n",
       "      <td>0</td>\n",
       "      <td>0 days 00:05:00</td>\n",
       "      <td>NIGHT</td>\n",
       "      <td>False</td>\n",
       "      <td>Closed</td>\n",
       "      <td>0 days 04:45:15.732000</td>\n",
       "      <td>1550</td>\n",
       "    </tr>\n",
       "    <tr>\n",
       "      <th>1</th>\n",
       "      <td>2015-01-01 00:05:59</td>\n",
       "      <td>0</td>\n",
       "      <td>0 days 00:05:00</td>\n",
       "      <td>NIGHT</td>\n",
       "      <td>False</td>\n",
       "      <td>Closed</td>\n",
       "      <td>0 days 04:45:15.732000</td>\n",
       "      <td>1550</td>\n",
       "    </tr>\n",
       "    <tr>\n",
       "      <th>2</th>\n",
       "      <td>2015-01-01 00:11:00</td>\n",
       "      <td>0</td>\n",
       "      <td>0 days 00:05:01</td>\n",
       "      <td>NIGHT</td>\n",
       "      <td>False</td>\n",
       "      <td>Closed</td>\n",
       "      <td>0 days 04:45:15.732000</td>\n",
       "      <td>1550</td>\n",
       "    </tr>\n",
       "    <tr>\n",
       "      <th>3</th>\n",
       "      <td>2015-01-01 00:16:01</td>\n",
       "      <td>0</td>\n",
       "      <td>0 days 00:05:01</td>\n",
       "      <td>NIGHT</td>\n",
       "      <td>False</td>\n",
       "      <td>Closed</td>\n",
       "      <td>0 days 04:45:15.732000</td>\n",
       "      <td>1550</td>\n",
       "    </tr>\n",
       "    <tr>\n",
       "      <th>4</th>\n",
       "      <td>2015-01-01 00:21:01</td>\n",
       "      <td>0</td>\n",
       "      <td>0 days 00:05:00</td>\n",
       "      <td>NIGHT</td>\n",
       "      <td>False</td>\n",
       "      <td>Closed</td>\n",
       "      <td>0 days 04:45:15.732000</td>\n",
       "      <td>1550</td>\n",
       "    </tr>\n",
       "  </tbody>\n",
       "</table>\n",
       "</div>"
      ],
      "text/plain": [
       "                 date  pluie           delta skylight  gt_48hr current_status  \\\n",
       "0 2015-01-01 00:00:59      0 0 days 00:05:00    NIGHT    False         Closed   \n",
       "1 2015-01-01 00:05:59      0 0 days 00:05:00    NIGHT    False         Closed   \n",
       "2 2015-01-01 00:11:00      0 0 days 00:05:01    NIGHT    False         Closed   \n",
       "3 2015-01-01 00:16:01      0 0 days 00:05:01    NIGHT    False         Closed   \n",
       "4 2015-01-01 00:21:01      0 0 days 00:05:00    NIGHT    False         Closed   \n",
       "\n",
       "            change_delta  change_id  \n",
       "0 0 days 04:45:15.732000       1550  \n",
       "1 0 days 04:45:15.732000       1550  \n",
       "2 0 days 04:45:15.732000       1550  \n",
       "3 0 days 04:45:15.732000       1550  \n",
       "4 0 days 04:45:15.732000       1550  "
      ]
     },
     "execution_count": 25,
     "metadata": {},
     "output_type": "execute_result"
    }
   ],
   "source": [
    "# find the corresponding status, time until the next change, and the time delta for that particular status\n",
    "wx_df_sky_roof = wx_df_sky.apply( find_roof_status, args=(roof_df_sky,), axis=1 )\n",
    "\n",
    "# and define a column for the time delta between weather rows\n",
    "wx_df_sky_roof.delta = wx_df_sky_roof.date - wx_df_sky_roof.date.shift(1)\n",
    "wx_df_sky_roof.loc[0, 'delta'] = timedelta(minutes = 5)\n",
    "wx_df_sky_roof.head()"
   ]
  },
  {
   "cell_type": "code",
   "execution_count": 26,
   "metadata": {},
   "outputs": [],
   "source": [
    "wx_df_sky_roof.to_csv( os.path.join( os.getcwd(), 'log_summaries\\\\final_df.csv'), index=False )"
   ]
  },
  {
   "cell_type": "code",
   "execution_count": 27,
   "metadata": {},
   "outputs": [
    {
     "data": {
      "text/html": [
       "<div>\n",
       "<style scoped>\n",
       "    .dataframe tbody tr th:only-of-type {\n",
       "        vertical-align: middle;\n",
       "    }\n",
       "\n",
       "    .dataframe tbody tr th {\n",
       "        vertical-align: top;\n",
       "    }\n",
       "\n",
       "    .dataframe thead th {\n",
       "        text-align: right;\n",
       "    }\n",
       "</style>\n",
       "<table border=\"1\" class=\"dataframe\">\n",
       "  <thead>\n",
       "    <tr style=\"text-align: right;\">\n",
       "      <th></th>\n",
       "      <th>date</th>\n",
       "      <th>pluie</th>\n",
       "      <th>delta</th>\n",
       "      <th>skylight</th>\n",
       "      <th>gt_48hr</th>\n",
       "      <th>current_status</th>\n",
       "      <th>change_delta</th>\n",
       "      <th>change_id</th>\n",
       "    </tr>\n",
       "  </thead>\n",
       "  <tbody>\n",
       "    <tr>\n",
       "      <th>0</th>\n",
       "      <td>2015-01-01 00:00:59</td>\n",
       "      <td>0</td>\n",
       "      <td>0 days 00:05:00</td>\n",
       "      <td>NIGHT</td>\n",
       "      <td>False</td>\n",
       "      <td>Closed</td>\n",
       "      <td>0 days 04:45:15.732000</td>\n",
       "      <td>1550</td>\n",
       "    </tr>\n",
       "    <tr>\n",
       "      <th>1</th>\n",
       "      <td>2015-01-01 00:05:59</td>\n",
       "      <td>0</td>\n",
       "      <td>0 days 00:05:00</td>\n",
       "      <td>NIGHT</td>\n",
       "      <td>False</td>\n",
       "      <td>Closed</td>\n",
       "      <td>0 days 04:45:15.732000</td>\n",
       "      <td>1550</td>\n",
       "    </tr>\n",
       "    <tr>\n",
       "      <th>2</th>\n",
       "      <td>2015-01-01 00:11:00</td>\n",
       "      <td>0</td>\n",
       "      <td>0 days 00:05:01</td>\n",
       "      <td>NIGHT</td>\n",
       "      <td>False</td>\n",
       "      <td>Closed</td>\n",
       "      <td>0 days 04:45:15.732000</td>\n",
       "      <td>1550</td>\n",
       "    </tr>\n",
       "    <tr>\n",
       "      <th>3</th>\n",
       "      <td>2015-01-01 00:16:01</td>\n",
       "      <td>0</td>\n",
       "      <td>0 days 00:05:01</td>\n",
       "      <td>NIGHT</td>\n",
       "      <td>False</td>\n",
       "      <td>Closed</td>\n",
       "      <td>0 days 04:45:15.732000</td>\n",
       "      <td>1550</td>\n",
       "    </tr>\n",
       "    <tr>\n",
       "      <th>4</th>\n",
       "      <td>2015-01-01 00:21:01</td>\n",
       "      <td>0</td>\n",
       "      <td>0 days 00:05:00</td>\n",
       "      <td>NIGHT</td>\n",
       "      <td>False</td>\n",
       "      <td>Closed</td>\n",
       "      <td>0 days 04:45:15.732000</td>\n",
       "      <td>1550</td>\n",
       "    </tr>\n",
       "  </tbody>\n",
       "</table>\n",
       "</div>"
      ],
      "text/plain": [
       "                 date  pluie           delta skylight  gt_48hr current_status  \\\n",
       "0 2015-01-01 00:00:59      0 0 days 00:05:00    NIGHT    False         Closed   \n",
       "1 2015-01-01 00:05:59      0 0 days 00:05:00    NIGHT    False         Closed   \n",
       "2 2015-01-01 00:11:00      0 0 days 00:05:01    NIGHT    False         Closed   \n",
       "3 2015-01-01 00:16:01      0 0 days 00:05:01    NIGHT    False         Closed   \n",
       "4 2015-01-01 00:21:01      0 0 days 00:05:00    NIGHT    False         Closed   \n",
       "\n",
       "            change_delta  change_id  \n",
       "0 0 days 04:45:15.732000       1550  \n",
       "1 0 days 04:45:15.732000       1550  \n",
       "2 0 days 04:45:15.732000       1550  \n",
       "3 0 days 04:45:15.732000       1550  \n",
       "4 0 days 04:45:15.732000       1550  "
      ]
     },
     "execution_count": 27,
     "metadata": {},
     "output_type": "execute_result"
    }
   ],
   "source": [
    "wx_df_sky_roof.head()"
   ]
  },
  {
   "cell_type": "code",
   "execution_count": 3,
   "metadata": {
    "scrolled": true
   },
   "outputs": [],
   "source": [
    "final_df = pd.read_csv( os.path.join( os.getcwd(), 'log_summaries\\\\final_df.csv'), parse_dates = ['date'] )\n",
    "final_df.loc[:,'delta'] = pd.to_timedelta( final_df.delta )\n",
    "final_df.loc[:,'change_delta'] = pd.to_timedelta( final_df.change_delta )"
   ]
  },
  {
   "cell_type": "code",
   "execution_count": 5,
   "metadata": {},
   "outputs": [
    {
     "data": {
      "text/html": [
       "<div>\n",
       "<style scoped>\n",
       "    .dataframe tbody tr th:only-of-type {\n",
       "        vertical-align: middle;\n",
       "    }\n",
       "\n",
       "    .dataframe tbody tr th {\n",
       "        vertical-align: top;\n",
       "    }\n",
       "\n",
       "    .dataframe thead th {\n",
       "        text-align: right;\n",
       "    }\n",
       "</style>\n",
       "<table border=\"1\" class=\"dataframe\">\n",
       "  <thead>\n",
       "    <tr style=\"text-align: right;\">\n",
       "      <th></th>\n",
       "      <th>date</th>\n",
       "      <th>pluie</th>\n",
       "      <th>delta</th>\n",
       "      <th>skylight</th>\n",
       "      <th>gt_48hr</th>\n",
       "      <th>current_status</th>\n",
       "      <th>change_delta</th>\n",
       "      <th>change_id</th>\n",
       "    </tr>\n",
       "  </thead>\n",
       "  <tbody>\n",
       "    <tr>\n",
       "      <th>359288</th>\n",
       "      <td>2019-01-31 23:35:11</td>\n",
       "      <td>0</td>\n",
       "      <td>0 days 00:05:01</td>\n",
       "      <td>NIGHT</td>\n",
       "      <td>False</td>\n",
       "      <td>Opened</td>\n",
       "      <td>0 days 07:42:45</td>\n",
       "      <td>7268</td>\n",
       "    </tr>\n",
       "    <tr>\n",
       "      <th>359289</th>\n",
       "      <td>2019-01-31 23:40:11</td>\n",
       "      <td>0</td>\n",
       "      <td>0 days 00:05:00</td>\n",
       "      <td>NIGHT</td>\n",
       "      <td>False</td>\n",
       "      <td>Opened</td>\n",
       "      <td>0 days 07:42:45</td>\n",
       "      <td>7268</td>\n",
       "    </tr>\n",
       "    <tr>\n",
       "      <th>359290</th>\n",
       "      <td>2019-01-31 23:45:13</td>\n",
       "      <td>0</td>\n",
       "      <td>0 days 00:05:02</td>\n",
       "      <td>NIGHT</td>\n",
       "      <td>False</td>\n",
       "      <td>Opened</td>\n",
       "      <td>0 days 07:42:45</td>\n",
       "      <td>7268</td>\n",
       "    </tr>\n",
       "    <tr>\n",
       "      <th>359291</th>\n",
       "      <td>2019-01-31 23:50:14</td>\n",
       "      <td>0</td>\n",
       "      <td>0 days 00:05:01</td>\n",
       "      <td>NIGHT</td>\n",
       "      <td>False</td>\n",
       "      <td>Opened</td>\n",
       "      <td>0 days 07:42:45</td>\n",
       "      <td>7268</td>\n",
       "    </tr>\n",
       "    <tr>\n",
       "      <th>359292</th>\n",
       "      <td>2019-01-31 23:55:15</td>\n",
       "      <td>0</td>\n",
       "      <td>0 days 00:05:01</td>\n",
       "      <td>NIGHT</td>\n",
       "      <td>False</td>\n",
       "      <td>Opened</td>\n",
       "      <td>0 days 07:42:45</td>\n",
       "      <td>7268</td>\n",
       "    </tr>\n",
       "  </tbody>\n",
       "</table>\n",
       "</div>"
      ],
      "text/plain": [
       "                      date  pluie           delta skylight  gt_48hr  \\\n",
       "359288 2019-01-31 23:35:11      0 0 days 00:05:01    NIGHT    False   \n",
       "359289 2019-01-31 23:40:11      0 0 days 00:05:00    NIGHT    False   \n",
       "359290 2019-01-31 23:45:13      0 0 days 00:05:02    NIGHT    False   \n",
       "359291 2019-01-31 23:50:14      0 0 days 00:05:01    NIGHT    False   \n",
       "359292 2019-01-31 23:55:15      0 0 days 00:05:01    NIGHT    False   \n",
       "\n",
       "       current_status    change_delta  change_id  \n",
       "359288         Opened 0 days 07:42:45       7268  \n",
       "359289         Opened 0 days 07:42:45       7268  \n",
       "359290         Opened 0 days 07:42:45       7268  \n",
       "359291         Opened 0 days 07:42:45       7268  \n",
       "359292         Opened 0 days 07:42:45       7268  "
      ]
     },
     "execution_count": 5,
     "metadata": {},
     "output_type": "execute_result"
    }
   ],
   "source": [
    "final_df.tail()"
   ]
  },
  {
   "cell_type": "code",
   "execution_count": 97,
   "metadata": {},
   "outputs": [],
   "source": [
    "final_df = wx_df_sky_roof.copy()"
   ]
  },
  {
   "cell_type": "markdown",
   "metadata": {},
   "source": [
    "# Analysis of Final DF (and maybe roof df)"
   ]
  },
  {
   "cell_type": "code",
   "execution_count": 30,
   "metadata": {},
   "outputs": [],
   "source": [
    "# first trim roof_df_sky to cover the same time that wx_df does\n",
    "roof_df_trim = roof_df_sky[ roof_df_sky.timestamp.ge( final_df.date.iloc[0] ) & \n",
    "                            roof_df_sky.timestamp.le( final_df.date.iloc[-1] + timedelta( hours = 12 )) ]"
   ]
  },
  {
   "cell_type": "code",
   "execution_count": 31,
   "metadata": {},
   "outputs": [
    {
     "data": {
      "text/html": [
       "<div>\n",
       "<style scoped>\n",
       "    .dataframe tbody tr th:only-of-type {\n",
       "        vertical-align: middle;\n",
       "    }\n",
       "\n",
       "    .dataframe tbody tr th {\n",
       "        vertical-align: top;\n",
       "    }\n",
       "\n",
       "    .dataframe thead th {\n",
       "        text-align: right;\n",
       "    }\n",
       "</style>\n",
       "<table border=\"1\" class=\"dataframe\">\n",
       "  <thead>\n",
       "    <tr style=\"text-align: right;\">\n",
       "      <th></th>\n",
       "      <th>timestamp</th>\n",
       "      <th>status</th>\n",
       "      <th>delta</th>\n",
       "      <th>pluie</th>\n",
       "      <th>skylight</th>\n",
       "      <th>gt_48hr</th>\n",
       "    </tr>\n",
       "  </thead>\n",
       "  <tbody>\n",
       "    <tr>\n",
       "      <th>1550</th>\n",
       "      <td>2015-01-01 01:23:13.264</td>\n",
       "      <td>Closed</td>\n",
       "      <td>0 days 04:45:15.732000</td>\n",
       "      <td>0</td>\n",
       "      <td>NIGHT</td>\n",
       "      <td>False</td>\n",
       "    </tr>\n",
       "    <tr>\n",
       "      <th>1551</th>\n",
       "      <td>2015-01-01 04:07:16.173</td>\n",
       "      <td>Opened</td>\n",
       "      <td>0 days 02:44:02.909000</td>\n",
       "      <td>0</td>\n",
       "      <td>NIGHT</td>\n",
       "      <td>False</td>\n",
       "    </tr>\n",
       "    <tr>\n",
       "      <th>1554</th>\n",
       "      <td>2015-01-01 22:16:03.617</td>\n",
       "      <td>Closed</td>\n",
       "      <td>0 days 01:40:21.358000</td>\n",
       "      <td>0</td>\n",
       "      <td>NIGHT</td>\n",
       "      <td>False</td>\n",
       "    </tr>\n",
       "    <tr>\n",
       "      <th>1555</th>\n",
       "      <td>2015-01-02 00:42:50.783</td>\n",
       "      <td>Opened</td>\n",
       "      <td>0 days 02:26:47.166000</td>\n",
       "      <td>0</td>\n",
       "      <td>NIGHT</td>\n",
       "      <td>False</td>\n",
       "    </tr>\n",
       "    <tr>\n",
       "      <th>1556</th>\n",
       "      <td>2015-01-02 04:07:37.889</td>\n",
       "      <td>Closed</td>\n",
       "      <td>0 days 03:24:47.106000</td>\n",
       "      <td>0</td>\n",
       "      <td>NIGHT</td>\n",
       "      <td>False</td>\n",
       "    </tr>\n",
       "    <tr>\n",
       "      <th>...</th>\n",
       "      <td>...</td>\n",
       "      <td>...</td>\n",
       "      <td>...</td>\n",
       "      <td>...</td>\n",
       "      <td>...</td>\n",
       "      <td>...</td>\n",
       "    </tr>\n",
       "    <tr>\n",
       "      <th>7248</th>\n",
       "      <td>2019-01-28 04:26:46.000</td>\n",
       "      <td>Opened</td>\n",
       "      <td>0 days 07:45:06</td>\n",
       "      <td>0</td>\n",
       "      <td>NIGHT</td>\n",
       "      <td>False</td>\n",
       "    </tr>\n",
       "    <tr>\n",
       "      <th>7252</th>\n",
       "      <td>2019-01-29 04:17:46.000</td>\n",
       "      <td>Opened</td>\n",
       "      <td>0 days 07:36:51</td>\n",
       "      <td>0</td>\n",
       "      <td>NIGHT</td>\n",
       "      <td>False</td>\n",
       "    </tr>\n",
       "    <tr>\n",
       "      <th>7260</th>\n",
       "      <td>2019-01-30 04:18:56.000</td>\n",
       "      <td>Opened</td>\n",
       "      <td>0 days 07:38:47</td>\n",
       "      <td>0</td>\n",
       "      <td>NIGHT</td>\n",
       "      <td>False</td>\n",
       "    </tr>\n",
       "    <tr>\n",
       "      <th>7264</th>\n",
       "      <td>2019-01-31 04:20:07.000</td>\n",
       "      <td>Opened</td>\n",
       "      <td>0 days 07:40:46</td>\n",
       "      <td>0</td>\n",
       "      <td>NIGHT</td>\n",
       "      <td>False</td>\n",
       "    </tr>\n",
       "    <tr>\n",
       "      <th>7268</th>\n",
       "      <td>2019-02-01 04:21:17.000</td>\n",
       "      <td>Opened</td>\n",
       "      <td>0 days 07:42:45</td>\n",
       "      <td>0</td>\n",
       "      <td>NIGHT</td>\n",
       "      <td>False</td>\n",
       "    </tr>\n",
       "  </tbody>\n",
       "</table>\n",
       "<p>3268 rows × 6 columns</p>\n",
       "</div>"
      ],
      "text/plain": [
       "                   timestamp  status                  delta  pluie skylight  \\\n",
       "1550 2015-01-01 01:23:13.264  Closed 0 days 04:45:15.732000      0    NIGHT   \n",
       "1551 2015-01-01 04:07:16.173  Opened 0 days 02:44:02.909000      0    NIGHT   \n",
       "1554 2015-01-01 22:16:03.617  Closed 0 days 01:40:21.358000      0    NIGHT   \n",
       "1555 2015-01-02 00:42:50.783  Opened 0 days 02:26:47.166000      0    NIGHT   \n",
       "1556 2015-01-02 04:07:37.889  Closed 0 days 03:24:47.106000      0    NIGHT   \n",
       "...                      ...     ...                    ...    ...      ...   \n",
       "7248 2019-01-28 04:26:46.000  Opened        0 days 07:45:06      0    NIGHT   \n",
       "7252 2019-01-29 04:17:46.000  Opened        0 days 07:36:51      0    NIGHT   \n",
       "7260 2019-01-30 04:18:56.000  Opened        0 days 07:38:47      0    NIGHT   \n",
       "7264 2019-01-31 04:20:07.000  Opened        0 days 07:40:46      0    NIGHT   \n",
       "7268 2019-02-01 04:21:17.000  Opened        0 days 07:42:45      0    NIGHT   \n",
       "\n",
       "      gt_48hr  \n",
       "1550    False  \n",
       "1551    False  \n",
       "1554    False  \n",
       "1555    False  \n",
       "1556    False  \n",
       "...       ...  \n",
       "7248    False  \n",
       "7252    False  \n",
       "7260    False  \n",
       "7264    False  \n",
       "7268    False  \n",
       "\n",
       "[3268 rows x 6 columns]"
      ]
     },
     "execution_count": 31,
     "metadata": {},
     "output_type": "execute_result"
    }
   ],
   "source": [
    "# now get a set thats only NIGHT and have deltas of less than 48 hrs\n",
    "# (48 hour deltas are generally caused by closures other than the weather - this is a crude assumption)\n",
    "\n",
    "roof_df48N = roof_df_trim[ roof_df_trim.skylight.eq(\"NIGHT\") & roof_df_trim.delta.le(timedelta(hours = 48)) ]\n",
    "roof_df48N"
   ]
  },
  {
   "cell_type": "code",
   "execution_count": 32,
   "metadata": {
    "scrolled": true
   },
   "outputs": [
    {
     "data": {
      "text/plain": [
       "pluie  status       \n",
       "0      Closed           35.614337\n",
       "       Move_closing      4.086737\n",
       "       Move_openning     1.938109\n",
       "       Opened           28.574347\n",
       "       Stopped           0.000153\n",
       "1      Closed           21.702583\n",
       "       Move_closing      1.275564\n",
       "       Move_openning     3.118407\n",
       "       Opened            3.689763\n",
       "Name: delta, dtype: float64"
      ]
     },
     "execution_count": 32,
     "metadata": {},
     "output_type": "execute_result"
    }
   ],
   "source": [
    "# [roof_df48N.status.eq('Stopped')]\n",
    "100*(roof_df48N.groupby(['pluie','status']).delta.sum() / roof_df48N.delta.sum())"
   ]
  },
  {
   "cell_type": "code",
   "execution_count": 33,
   "metadata": {},
   "outputs": [
    {
     "data": {
      "text/plain": [
       "<AxesSubplot:ylabel='Frequency'>"
      ]
     },
     "execution_count": 33,
     "metadata": {},
     "output_type": "execute_result"
    },
    {
     "data": {
      "image/png": "[encoded data removed]",
      "text/plain": [
       "<Figure size 432x288 with 1 Axes>"
      ]
     },
     "metadata": {
      "needs_background": "light"
     },
     "output_type": "display_data"
    }
   ],
   "source": [
    "roof_df48N[roof_df48N.delta.le(timedelta(minutes = 70))].delta.astype('timedelta64[m]').plot.hist(bins=70)"
   ]
  },
  {
   "cell_type": "code",
   "execution_count": 4,
   "metadata": {},
   "outputs": [],
   "source": [
    "# Now do the same for final_df (wx based)\n",
    "final_df48N = final_df[ final_df.skylight.eq(\"NIGHT\") & final_df.change_delta.le(timedelta(hours = 48)) &\n",
    "                        final_df.delta.le( timedelta( hours = 2 ) )]\n",
    "# but also when theres a big gap in weather data, likely something went wrong outside of weather,\n",
    "# so filter those out as well"
   ]
  },
  {
   "cell_type": "code",
   "execution_count": 35,
   "metadata": {},
   "outputs": [
    {
     "data": {
      "text/plain": [
       "pluie  current_status\n",
       "0      Closed            51.475223\n",
       "       Move_closing       5.441399\n",
       "       Move_openning      4.129348\n",
       "       Opened            31.541705\n",
       "1      Closed             5.128250\n",
       "       Move_closing       0.186582\n",
       "       Move_openning      1.145100\n",
       "       Opened             0.952395\n",
       "Name: delta, dtype: float64"
      ]
     },
     "execution_count": 35,
     "metadata": {},
     "output_type": "execute_result"
    }
   ],
   "source": [
    "100*(final_df48N.groupby(['pluie','current_status']).delta.sum() / final_df48N.delta.sum())"
   ]
  },
  {
   "cell_type": "code",
   "execution_count": 36,
   "metadata": {
    "scrolled": true
   },
   "outputs": [
    {
     "data": {
      "text/plain": [
       "pluie  current_status\n",
       "0      Closed            51.532029\n",
       "       Move_closing       5.273389\n",
       "       Move_openning      4.117810\n",
       "       Opened            31.669649\n",
       "1      Closed             5.125278\n",
       "       Move_closing       0.188225\n",
       "       Move_openning      1.133208\n",
       "       Opened             0.960411\n",
       "dtype: float64"
      ]
     },
     "execution_count": 36,
     "metadata": {},
     "output_type": "execute_result"
    }
   ],
   "source": [
    "100*(final_df48N.groupby(['pluie','current_status']).size() / len(final_df48N))"
   ]
  },
  {
   "cell_type": "code",
   "execution_count": 37,
   "metadata": {},
   "outputs": [],
   "source": [
    "final_df20 = final_df48N.copy()\n",
    "final_df20.loc[ final_df20.change_delta.le( timedelta(minutes = 20) ) & final_df20.current_status.eq(\"Closed\") , 'current_status' ] = \"Closed_lt20\""
   ]
  },
  {
   "cell_type": "code",
   "execution_count": 38,
   "metadata": {},
   "outputs": [
    {
     "data": {
      "text/plain": [
       "pluie  current_status\n",
       "0      Closed            51.069952\n",
       "       Closed_lt20        0.462077\n",
       "       Move_closing       5.273389\n",
       "       Move_openning      4.117810\n",
       "       Opened            31.669649\n",
       "1      Closed             5.067422\n",
       "       Closed_lt20        0.057856\n",
       "       Move_closing       0.188225\n",
       "       Move_openning      1.133208\n",
       "       Opened             0.960411\n",
       "dtype: float64"
      ]
     },
     "execution_count": 38,
     "metadata": {},
     "output_type": "execute_result"
    }
   ],
   "source": [
    "100*(final_df20.groupby(['pluie','current_status']).size() / len(final_df20))"
   ]
  },
  {
   "cell_type": "code",
   "execution_count": null,
   "metadata": {},
   "outputs": [],
   "source": [
    "# Difference in proportion for weather dataset vs roof dataset is because the roof_df takes an aggregate of pluie\n",
    "# by taking max - time spent raining is much more than actual.\n",
    "\n",
    "# ALSO when we do predictions -> prediction field - NEXT pluie, use current pluie as additional field.\n",
    "\n",
    "# Choosing to consider DUSK/DAWN as NIGHT would also probably have significant effect on number of (NIGHT Closed No Rain)\n",
    "# Perhaps can keep as DUSK/DAWN -> only consider NIGHT? would reduce the total data but shouldn't introduce bias"
   ]
  },
  {
   "cell_type": "code",
   "execution_count": 127,
   "metadata": {
    "scrolled": false
   },
   "outputs": [
    {
     "data": {
      "text/plain": [
       "<AxesSubplot:ylabel='Frequency'>"
      ]
     },
     "execution_count": 127,
     "metadata": {},
     "output_type": "execute_result"
    },
    {
     "data": {
      "image/png": "[encoded data removed]",
      "text/plain": [
       "<Figure size 432x288 with 1 Axes>"
      ]
     },
     "metadata": {
      "needs_background": "light"
     },
     "output_type": "display_data"
    }
   ],
   "source": [
    "roof_df_sky[ roof_df_sky.skylight.eq(\"NIGHT\") & roof_df_sky.status.eq('Closed') & roof_df_sky.delta.le(timedelta(days = 5)) & roof_df_sky.delta.gt(timedelta(hours  = 10)) ].delta.astype('timedelta64[h]').plot.hist(bins=48)"
   ]
  },
  {
   "cell_type": "code",
   "execution_count": 116,
   "metadata": {
    "scrolled": true
   },
   "outputs": [
    {
     "data": {
      "text/html": [
       "<div>\n",
       "<style scoped>\n",
       "    .dataframe tbody tr th:only-of-type {\n",
       "        vertical-align: middle;\n",
       "    }\n",
       "\n",
       "    .dataframe tbody tr th {\n",
       "        vertical-align: top;\n",
       "    }\n",
       "\n",
       "    .dataframe thead th {\n",
       "        text-align: right;\n",
       "    }\n",
       "</style>\n",
       "<table border=\"1\" class=\"dataframe\">\n",
       "  <thead>\n",
       "    <tr style=\"text-align: right;\">\n",
       "      <th></th>\n",
       "      <th>timestamp</th>\n",
       "      <th>status</th>\n",
       "      <th>delta</th>\n",
       "      <th>pluie</th>\n",
       "    </tr>\n",
       "  </thead>\n",
       "  <tbody>\n",
       "    <tr>\n",
       "      <th>157</th>\n",
       "      <td>2014-01-13 21:37:46.227</td>\n",
       "      <td>Closed</td>\n",
       "      <td>10 days 17:06:40.512000</td>\n",
       "      <td>0</td>\n",
       "    </tr>\n",
       "    <tr>\n",
       "      <th>280</th>\n",
       "      <td>2014-02-22 20:00:04.068</td>\n",
       "      <td>Closed</td>\n",
       "      <td>10 days 16:22:28.398000</td>\n",
       "      <td>0</td>\n",
       "    </tr>\n",
       "    <tr>\n",
       "      <th>8600</th>\n",
       "      <td>2014-05-07 12:38:03.347</td>\n",
       "      <td>Move_openning</td>\n",
       "      <td>34 days 03:22:19.437000</td>\n",
       "      <td>0</td>\n",
       "    </tr>\n",
       "    <tr>\n",
       "      <th>8601</th>\n",
       "      <td>2014-06-18 18:26:56.255</td>\n",
       "      <td>Closed</td>\n",
       "      <td>42 days 05:48:52.908000</td>\n",
       "      <td>0</td>\n",
       "    </tr>\n",
       "    <tr>\n",
       "      <th>8774</th>\n",
       "      <td>2014-09-03 10:04:39.658</td>\n",
       "      <td>Move_openning</td>\n",
       "      <td>41 days 15:38:55.753000</td>\n",
       "      <td>0</td>\n",
       "    </tr>\n",
       "    <tr>\n",
       "      <th>8799</th>\n",
       "      <td>2014-09-18 18:14:47.386</td>\n",
       "      <td>Closed</td>\n",
       "      <td>11 days 13:00:33.018000</td>\n",
       "      <td>0</td>\n",
       "    </tr>\n",
       "    <tr>\n",
       "      <th>9756</th>\n",
       "      <td>2015-03-31 19:12:13.909</td>\n",
       "      <td>Closed</td>\n",
       "      <td>18 days 06:29:20.500000</td>\n",
       "      <td>1</td>\n",
       "    </tr>\n",
       "    <tr>\n",
       "      <th>39097</th>\n",
       "      <td>2015-07-22 10:32:27.141</td>\n",
       "      <td>Move_closing</td>\n",
       "      <td>91 days 23:29:43.623000</td>\n",
       "      <td>1</td>\n",
       "    </tr>\n",
       "    <tr>\n",
       "      <th>39101</th>\n",
       "      <td>2015-08-26 18:22:21.086</td>\n",
       "      <td>Closed</td>\n",
       "      <td>28 days 07:29:29.235000</td>\n",
       "      <td>1</td>\n",
       "    </tr>\n",
       "    <tr>\n",
       "      <th>39108</th>\n",
       "      <td>2015-09-23 18:38:16.827</td>\n",
       "      <td>Closed</td>\n",
       "      <td>19 days 06:02:51.450000</td>\n",
       "      <td>1</td>\n",
       "    </tr>\n",
       "    <tr>\n",
       "      <th>39687</th>\n",
       "      <td>2016-01-14 20:24:48.074</td>\n",
       "      <td>Closed</td>\n",
       "      <td>14 days 15:49:48.436000</td>\n",
       "      <td>0</td>\n",
       "    </tr>\n",
       "    <tr>\n",
       "      <th>39794</th>\n",
       "      <td>2016-03-01 11:57:40.329</td>\n",
       "      <td>Closed</td>\n",
       "      <td>12 days 10:43:34.704000</td>\n",
       "      <td>1</td>\n",
       "    </tr>\n",
       "    <tr>\n",
       "      <th>39869</th>\n",
       "      <td>2016-03-30 19:17:22.056</td>\n",
       "      <td>Closed</td>\n",
       "      <td>11 days 18:10:25.923000</td>\n",
       "      <td>1</td>\n",
       "    </tr>\n",
       "    <tr>\n",
       "      <th>39927</th>\n",
       "      <td>2016-04-13 18:25:59.195</td>\n",
       "      <td>Closed</td>\n",
       "      <td>10 days 21:24:50.423000</td>\n",
       "      <td>1</td>\n",
       "    </tr>\n",
       "    <tr>\n",
       "      <th>41913</th>\n",
       "      <td>2016-12-07 16:37:55.068</td>\n",
       "      <td>Move_openning</td>\n",
       "      <td>16 days 12:07:47.201000</td>\n",
       "      <td>1</td>\n",
       "    </tr>\n",
       "    <tr>\n",
       "      <th>41948</th>\n",
       "      <td>2017-01-12 21:09:29.488</td>\n",
       "      <td>Closed</td>\n",
       "      <td>27 days 16:33:36.014000</td>\n",
       "      <td>1</td>\n",
       "    </tr>\n",
       "    <tr>\n",
       "      <th>41960</th>\n",
       "      <td>2017-01-31 23:47:27.174</td>\n",
       "      <td>Closed</td>\n",
       "      <td>18 days 19:02:14.045000</td>\n",
       "      <td>1</td>\n",
       "    </tr>\n",
       "    <tr>\n",
       "      <th>42821</th>\n",
       "      <td>2017-05-30 19:10:06.830</td>\n",
       "      <td>Closed</td>\n",
       "      <td>15 days 13:32:55.083000</td>\n",
       "      <td>1</td>\n",
       "    </tr>\n",
       "    <tr>\n",
       "      <th>43591</th>\n",
       "      <td>2017-08-16 10:43:02.712</td>\n",
       "      <td>Move_openning</td>\n",
       "      <td>13 days 14:15:31.542000</td>\n",
       "      <td>1</td>\n",
       "    </tr>\n",
       "    <tr>\n",
       "      <th>44735</th>\n",
       "      <td>2018-06-11 18:22:30.731</td>\n",
       "      <td>Closed</td>\n",
       "      <td>11 days 11:21:29.807000</td>\n",
       "      <td>1</td>\n",
       "    </tr>\n",
       "    <tr>\n",
       "      <th>44919</th>\n",
       "      <td>2019-01-15 20:03:22.000</td>\n",
       "      <td>Closed</td>\n",
       "      <td>213 days 16:35:39.895000</td>\n",
       "      <td>1</td>\n",
       "    </tr>\n",
       "    <tr>\n",
       "      <th>45835</th>\n",
       "      <td>2019-05-09 06:57:10.000</td>\n",
       "      <td>Opened</td>\n",
       "      <td>11 days 13:16:41</td>\n",
       "      <td>0</td>\n",
       "    </tr>\n",
       "    <tr>\n",
       "      <th>46286</th>\n",
       "      <td>2019-06-14 18:26:00.000</td>\n",
       "      <td>Closed</td>\n",
       "      <td>11 days 11:13:06</td>\n",
       "      <td>0</td>\n",
       "    </tr>\n",
       "    <tr>\n",
       "      <th>48187</th>\n",
       "      <td>2020-03-04 09:45:27.000</td>\n",
       "      <td>Manual mode partly opened</td>\n",
       "      <td>11 days 14:23:21</td>\n",
       "      <td>0</td>\n",
       "    </tr>\n",
       "    <tr>\n",
       "      <th>50098</th>\n",
       "      <td>2020-09-29 23:33:34.000</td>\n",
       "      <td>Opened</td>\n",
       "      <td>10 days 19:18:48</td>\n",
       "      <td>0</td>\n",
       "    </tr>\n",
       "  </tbody>\n",
       "</table>\n",
       "</div>"
      ],
      "text/plain": [
       "                    timestamp                     status  \\\n",
       "157   2014-01-13 21:37:46.227                     Closed   \n",
       "280   2014-02-22 20:00:04.068                     Closed   \n",
       "8600  2014-05-07 12:38:03.347              Move_openning   \n",
       "8601  2014-06-18 18:26:56.255                     Closed   \n",
       "8774  2014-09-03 10:04:39.658              Move_openning   \n",
       "8799  2014-09-18 18:14:47.386                     Closed   \n",
       "9756  2015-03-31 19:12:13.909                     Closed   \n",
       "39097 2015-07-22 10:32:27.141               Move_closing   \n",
       "39101 2015-08-26 18:22:21.086                     Closed   \n",
       "39108 2015-09-23 18:38:16.827                     Closed   \n",
       "39687 2016-01-14 20:24:48.074                     Closed   \n",
       "39794 2016-03-01 11:57:40.329                     Closed   \n",
       "39869 2016-03-30 19:17:22.056                     Closed   \n",
       "39927 2016-04-13 18:25:59.195                     Closed   \n",
       "41913 2016-12-07 16:37:55.068              Move_openning   \n",
       "41948 2017-01-12 21:09:29.488                     Closed   \n",
       "41960 2017-01-31 23:47:27.174                     Closed   \n",
       "42821 2017-05-30 19:10:06.830                     Closed   \n",
       "43591 2017-08-16 10:43:02.712              Move_openning   \n",
       "44735 2018-06-11 18:22:30.731                     Closed   \n",
       "44919 2019-01-15 20:03:22.000                     Closed   \n",
       "45835 2019-05-09 06:57:10.000                     Opened   \n",
       "46286 2019-06-14 18:26:00.000                     Closed   \n",
       "48187 2020-03-04 09:45:27.000  Manual mode partly opened   \n",
       "50098 2020-09-29 23:33:34.000                     Opened   \n",
       "\n",
       "                         delta  pluie  \n",
       "157    10 days 17:06:40.512000      0  \n",
       "280    10 days 16:22:28.398000      0  \n",
       "8600   34 days 03:22:19.437000      0  \n",
       "8601   42 days 05:48:52.908000      0  \n",
       "8774   41 days 15:38:55.753000      0  \n",
       "8799   11 days 13:00:33.018000      0  \n",
       "9756   18 days 06:29:20.500000      1  \n",
       "39097  91 days 23:29:43.623000      1  \n",
       "39101  28 days 07:29:29.235000      1  \n",
       "39108  19 days 06:02:51.450000      1  \n",
       "39687  14 days 15:49:48.436000      0  \n",
       "39794  12 days 10:43:34.704000      1  \n",
       "39869  11 days 18:10:25.923000      1  \n",
       "39927  10 days 21:24:50.423000      1  \n",
       "41913  16 days 12:07:47.201000      1  \n",
       "41948  27 days 16:33:36.014000      1  \n",
       "41960  18 days 19:02:14.045000      1  \n",
       "42821  15 days 13:32:55.083000      1  \n",
       "43591  13 days 14:15:31.542000      1  \n",
       "44735  11 days 11:21:29.807000      1  \n",
       "44919 213 days 16:35:39.895000      1  \n",
       "45835         11 days 13:16:41      0  \n",
       "46286         11 days 11:13:06      0  \n",
       "48187         11 days 14:23:21      0  \n",
       "50098         10 days 19:18:48      0  "
      ]
     },
     "execution_count": 116,
     "metadata": {},
     "output_type": "execute_result"
    }
   ],
   "source": [
    "roof_df[ roof_df.delta.ge(timedelta(days = 10)) ]"
   ]
  },
  {
   "cell_type": "markdown",
   "metadata": {},
   "source": [
    "# Analysis using change_id to find gt48hr deltas"
   ]
  },
  {
   "cell_type": "code",
   "execution_count": 39,
   "metadata": {
    "scrolled": false
   },
   "outputs": [
    {
     "data": {
      "text/html": [
       "<div>\n",
       "<style scoped>\n",
       "    .dataframe tbody tr th:only-of-type {\n",
       "        vertical-align: middle;\n",
       "    }\n",
       "\n",
       "    .dataframe tbody tr th {\n",
       "        vertical-align: top;\n",
       "    }\n",
       "\n",
       "    .dataframe thead th {\n",
       "        text-align: right;\n",
       "    }\n",
       "</style>\n",
       "<table border=\"1\" class=\"dataframe\">\n",
       "  <thead>\n",
       "    <tr style=\"text-align: right;\">\n",
       "      <th></th>\n",
       "      <th>date</th>\n",
       "      <th>pluie</th>\n",
       "      <th>delta</th>\n",
       "      <th>skylight</th>\n",
       "      <th>gt_48hr</th>\n",
       "      <th>current_status</th>\n",
       "      <th>change_delta</th>\n",
       "      <th>change_id</th>\n",
       "    </tr>\n",
       "  </thead>\n",
       "  <tbody>\n",
       "  </tbody>\n",
       "</table>\n",
       "</div>"
      ],
      "text/plain": [
       "Empty DataFrame\n",
       "Columns: [date, pluie, delta, skylight, gt_48hr, current_status, change_delta, change_id]\n",
       "Index: []"
      ]
     },
     "execution_count": 39,
     "metadata": {},
     "output_type": "execute_result"
    }
   ],
   "source": [
    "final_df[ final_df.change_delta.gt(timedelta(hours=48)) & ~final_df.change_id.isin( roof_df_sky[ roof_df_sky.gt_48hr ].index )]"
   ]
  },
  {
   "cell_type": "code",
   "execution_count": 6,
   "metadata": {},
   "outputs": [],
   "source": [
    "# Now do the same for final_df (wx based)\n",
    "final_df48N = final_df[ final_df.skylight.eq(\"NIGHT\") & final_df.delta.le( timedelta( hours = 2 ) ) & \n",
    "                        ~final_df.change_id.isin( roof_df_sky[ roof_df_sky.gt_48hr ].index )]\n",
    "# but also when theres a big gap in weather data, likely something went wrong outside of weather,\n",
    "# so filter those out as well"
   ]
  },
  {
   "cell_type": "code",
   "execution_count": 8,
   "metadata": {},
   "outputs": [
    {
     "data": {
      "text/plain": [
       "Timedelta('258 days 06:28:16.015000')"
      ]
     },
     "execution_count": 8,
     "metadata": {},
     "output_type": "execute_result"
    }
   ],
   "source": [
    "final_df48N.delta.sum()"
   ]
  },
  {
   "cell_type": "code",
   "execution_count": 7,
   "metadata": {
    "scrolled": true
   },
   "outputs": [
    {
     "data": {
      "text/plain": [
       "pluie  current_status\n",
       "0      Closed            37.205383\n",
       "       Move_closing       0.102525\n",
       "       Move_openning      1.316259\n",
       "       Opened            55.590450\n",
       "1      Closed             4.027297\n",
       "       Move_openning      0.079545\n",
       "       Opened             1.678541\n",
       "Name: delta, dtype: float64"
      ]
     },
     "execution_count": 7,
     "metadata": {},
     "output_type": "execute_result"
    }
   ],
   "source": [
    "100*(final_df48N.groupby(['pluie','current_status']).delta.sum() / final_df48N.delta.sum())"
   ]
  },
  {
   "cell_type": "code",
   "execution_count": 46,
   "metadata": {},
   "outputs": [
    {
     "data": {
      "text/plain": [
       "0.3946656692369663"
      ]
     },
     "execution_count": 46,
     "metadata": {},
     "output_type": "execute_result"
    }
   ],
   "source": [
    "len(final_df48N[ final_df48N.current_status.eq('Closed') & final_df48N.pluie.eq(0) ]) / len(final_df48N[ final_df48N.pluie.eq(0) ])"
   ]
  },
  {
   "cell_type": "code",
   "execution_count": 42,
   "metadata": {},
   "outputs": [
    {
     "data": {
      "text/plain": [
       "pluie  current_status\n",
       "0      Closed            96 days 02:09:53.760000\n",
       "       Move_closing              0 days 06:21:18\n",
       "       Move_openning      3 days 09:35:16.531000\n",
       "       Opened           143 days 13:45:28.736000\n",
       "1      Closed            10 days 09:37:50.988000\n",
       "       Move_openning             0 days 04:55:50\n",
       "       Opened                    4 days 08:02:38\n",
       "Name: delta, dtype: timedelta64[ns]"
      ]
     },
     "execution_count": 42,
     "metadata": {},
     "output_type": "execute_result"
    }
   ],
   "source": [
    "final_df48N.groupby(['pluie','current_status']).delta.sum()"
   ]
  },
  {
   "cell_type": "code",
   "execution_count": 76,
   "metadata": {
    "scrolled": true
   },
   "outputs": [
    {
     "data": {
      "text/plain": [
       "pluie  current_status\n",
       "0      Closed            36.411290\n",
       "       Closed_lt20        0.794094\n",
       "       Move_closing       0.102525\n",
       "       Move_openning      1.316259\n",
       "       Opened            55.590450\n",
       "1      Closed             3.926071\n",
       "       Closed_lt20        0.101226\n",
       "       Move_openning      0.079545\n",
       "       Opened             1.678541\n",
       "Name: delta, dtype: float64"
      ]
     },
     "execution_count": 76,
     "metadata": {},
     "output_type": "execute_result"
    }
   ],
   "source": [
    "final_df20 = final_df48N.copy()\n",
    "final_df20.loc[ final_df20.change_delta.le( timedelta(minutes = 20) ) & final_df20.current_status.eq(\"Closed\") , 'current_status' ] = \"Closed_lt20\"\n",
    "\n",
    "100*(\n",
    "final_df20.groupby(['pluie','current_status']).delta.sum() / final_df20.delta.sum())"
   ]
  },
  {
   "cell_type": "code",
   "execution_count": 8,
   "metadata": {},
   "outputs": [],
   "source": [
    "tp = len( final_df48N[ final_df48N.pluie.eq(1) & final_df48N.current_status.eq(\"Closed\") ] )\n",
    "tn = len( final_df48N[ final_df48N.pluie.eq(0) & final_df48N.current_status.eq(\"Opened\") ] )\n",
    "fp = len( final_df48N[ final_df48N.pluie.eq(0) & final_df48N.current_status.eq(\"Closed\") ] )\n",
    "fn = len( final_df48N[ final_df48N.pluie.eq(1) & final_df48N.current_status.eq(\"Opened\") ] )"
   ]
  },
  {
   "cell_type": "code",
   "execution_count": 9,
   "metadata": {
    "scrolled": true
   },
   "outputs": [
    {
     "data": {
      "text/plain": [
       "0.605526670518005"
      ]
     },
     "execution_count": 9,
     "metadata": {},
     "output_type": "execute_result"
    }
   ],
   "source": [
    "total = (fp + fn + tp + tn)\n",
    "acc = (tp + tn) / total\n",
    "acc"
   ]
  },
  {
   "cell_type": "code",
   "execution_count": 11,
   "metadata": {},
   "outputs": [
    {
     "data": {
      "text/plain": [
       "0.6519948592492959"
      ]
     },
     "execution_count": 11,
     "metadata": {},
     "output_type": "execute_result"
    }
   ],
   "source": [
    "b_acc = 0.5*((tp / (tp + fn))+(tn / (tn + fp)))\n",
    "b_acc"
   ]
  },
  {
   "cell_type": "code",
   "execution_count": 83,
   "metadata": {},
   "outputs": [],
   "source": [
    "veri_scores = pd.Series([0.1]*7, index = ['acc','bias', 'pod', 'far', 'ts', 'ets', 'or'])\n",
    "    \n",
    "# Accuracy Score\n",
    "# veri_scores['acc']  = accuracy_score(y_test,y_pred)\n",
    "\n",
    "# # Balanced Accuracy Score\n",
    "# veri_scores['b_acc'] = balanced_accuracy_score(y_test,y_pred)\n",
    "\n",
    "# Bias Score\n",
    "veri_scores['bias'] = (tp + fp)/(tp + fn)\n",
    "\n",
    "# Probability of Detection\n",
    "veri_scores['pod']  = (tp)/(tp + fn)\n",
    "\n",
    "# False Alarm Ratio\n",
    "veri_scores['far']  = (fp)/(tp + fp)\n",
    "\n",
    "# Threat Score\n",
    "veri_scores['ts']   = (tp)/(tp + fp + fn)\n",
    "\n",
    "# Equitable Threat Score ( accounting for random tp's )\n",
    "r_tp = ((tp + fn)*(tp + fp)) / total\n",
    "veri_scores['ets'] = (tp - r_tp)/(tp + fp + fn - r_tp)\n",
    "\n",
    "# Odds Ratio\n",
    "veri_scores['or']   = (tp * tn) / (fn * fp) "
   ]
  },
  {
   "cell_type": "code",
   "execution_count": 84,
   "metadata": {},
   "outputs": [
    {
     "data": {
      "text/plain": [
       "acc     0.100000\n",
       "bias    7.214760\n",
       "pod     0.704556\n",
       "far     0.902345\n",
       "ts      0.093813\n",
       "ets     0.040379\n",
       "or      3.568677\n",
       "dtype: float64"
      ]
     },
     "execution_count": 84,
     "metadata": {},
     "output_type": "execute_result"
    }
   ],
   "source": [
    "veri_scores"
   ]
  },
  {
   "cell_type": "code",
   "execution_count": null,
   "metadata": {},
   "outputs": [],
   "source": []
  }
 ],
 "metadata": {
  "kernelspec": {
   "display_name": "Python 3",
   "language": "python",
   "name": "python3"
  },
  "language_info": {
   "codemirror_mode": {
    "name": "ipython",
    "version": 3
   },
   "file_extension": ".py",
   "mimetype": "text/x-python",
   "name": "python",
   "nbconvert_exporter": "python",
   "pygments_lexer": "ipython3",
   "version": "3.9.6"
  }
 },
 "nbformat": 4,
 "nbformat_minor": 4
}
